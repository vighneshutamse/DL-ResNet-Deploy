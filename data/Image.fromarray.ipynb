import  matplotlib.pyplot as plt 
import numpy as np
from PIL import Image


im = Image.open("tmp_4150.jpg")

print(type(im))

im.to