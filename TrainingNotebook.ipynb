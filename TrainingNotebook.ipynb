{
 "cells": [
  {
   "cell_type": "code",
   "execution_count": 2,
   "metadata": {
    "colab": {
     "base_uri": "https://localhost:8080/",
     "height": 51
    },
    "colab_type": "code",
    "executionInfo": {
     "elapsed": 2447,
     "status": "ok",
     "timestamp": 1586399395990,
     "user": {
      "displayName": "Veera Vignesh",
      "photoUrl": "https://lh3.googleusercontent.com/a-/AOh14Gjqw56O345G0_zIqVnDR7wJL0C8XvD0lSwJRk7c=s64",
      "userId": "13970142588130859665"
     },
     "user_tz": -330
    },
    "id": "QAmvWjlLPxn6",
    "outputId": "452e4a7e-ee9f-4370-88b2-11bd2361f7ac"
   },
   "outputs": [
    {
     "name": "stdout",
     "output_type": "stream",
     "text": [
      "Drive already mounted at /content/gdrive; to attempt to forcibly remount, call drive.mount(\"/content/gdrive\", force_remount=True).\n",
      "Current Working Directory /content/gdrive/Shared drives/DL/Image Classification and Model Deployment\n"
     ]
    }
   ],
   "source": [
    "from google.colab import drive\n",
    "drive.mount('/content/gdrive')\n",
    "\n",
    "#Mounting drive at shared drive loaction\n",
    "import os\n",
    "os.chdir('/content/gdrive/Shared drives/DL/Image Classification and Model Deployment')\n",
    "print(\"Current Working Directory \"+ os.getcwd())"
   ]
  },
  {
   "cell_type": "code",
   "execution_count": null,
   "metadata": {
    "ExecuteTime": {
     "end_time": "2020-04-05T12:20:54.035593Z",
     "start_time": "2020-04-05T12:20:54.027597Z"
    },
    "colab": {},
    "colab_type": "code",
    "id": "j8e6l8mGPZuu"
   },
   "outputs": [],
   "source": [
    "from src.data import Cifar10Data\n",
    "from src.model import getModel\n",
    "from src.training import train_model\n",
    "from src.model import ResNet,BasicBlock,Bottleneck"
   ]
  },
  {
   "cell_type": "code",
   "execution_count": 4,
   "metadata": {
    "ExecuteTime": {
     "end_time": "2020-04-05T12:21:03.352844Z",
     "start_time": "2020-04-05T12:20:56.274212Z"
    },
    "colab": {
     "base_uri": "https://localhost:8080/",
     "height": 51
    },
    "colab_type": "code",
    "executionInfo": {
     "elapsed": 19405,
     "status": "ok",
     "timestamp": 1586399413002,
     "user": {
      "displayName": "Veera Vignesh",
      "photoUrl": "https://lh3.googleusercontent.com/a-/AOh14Gjqw56O345G0_zIqVnDR7wJL0C8XvD0lSwJRk7c=s64",
      "userId": "13970142588130859665"
     },
     "user_tz": -330
    },
    "id": "CJJHPQ2dPZvF",
    "outputId": "1dfafdca-1bbd-42ac-c25b-358dfd11f077"
   },
   "outputs": [
    {
     "name": "stdout",
     "output_type": "stream",
     "text": [
      "Files already downloaded and verified\n",
      "Files already downloaded and verified\n"
     ]
    }
   ],
   "source": [
    "data = Cifar10Data()"
   ]
  },
  {
   "cell_type": "code",
   "execution_count": 5,
   "metadata": {
    "ExecuteTime": {
     "end_time": "2020-04-05T12:23:24.139957Z",
     "start_time": "2020-04-05T12:23:24.112973Z"
    },
    "colab": {
     "base_uri": "https://localhost:8080/",
     "height": 68
    },
    "colab_type": "code",
    "executionInfo": {
     "elapsed": 28760,
     "status": "ok",
     "timestamp": 1586399422392,
     "user": {
      "displayName": "Veera Vignesh",
      "photoUrl": "https://lh3.googleusercontent.com/a-/AOh14Gjqw56O345G0_zIqVnDR7wJL0C8XvD0lSwJRk7c=s64",
      "userId": "13970142588130859665"
     },
     "user_tz": -330
    },
    "id": "uWDcvCWUPZvf",
    "outputId": "4d10849c-a86f-4d4c-cac0-e3b1d0d1eeaa"
   },
   "outputs": [
    {
     "name": "stdout",
     "output_type": "stream",
     "text": [
      "The model is in training mode\n",
      "No of params in model is  701466\n",
      "model is loaded on GPU: True\n"
     ]
    }
   ],
   "source": [
    "model = getModel(training=True,block=BasicBlock,num_blocks=[2,2,2,2],num_classes=data.num_classes)"
   ]
  },
  {
   "cell_type": "code",
   "execution_count": 6,
   "metadata": {
    "ExecuteTime": {
     "end_time": "2020-04-05T12:04:44.418649Z",
     "start_time": "2020-04-05T12:04:44.365683Z"
    },
    "colab": {
     "base_uri": "https://localhost:8080/",
     "height": 1000
    },
    "colab_type": "code",
    "executionInfo": {
     "elapsed": 28747,
     "status": "ok",
     "timestamp": 1586399422397,
     "user": {
      "displayName": "Veera Vignesh",
      "photoUrl": "https://lh3.googleusercontent.com/a-/AOh14Gjqw56O345G0_zIqVnDR7wJL0C8XvD0lSwJRk7c=s64",
      "userId": "13970142588130859665"
     },
     "user_tz": -330
    },
    "id": "iSYEWJWgPZvt",
    "outputId": "b57963ba-8d36-4bf0-a5a5-d46485866f3d"
   },
   "outputs": [
    {
     "data": {
      "text/plain": [
       "DataParallel(\n",
       "  (module): ResNet(\n",
       "    (conv1): Conv2d(3, 16, kernel_size=(3, 3), stride=(1, 1), padding=(1, 1), bias=False)\n",
       "    (bn1): BatchNorm2d(16, eps=1e-05, momentum=0.1, affine=True, track_running_stats=True)\n",
       "    (layer1): Sequential(\n",
       "      (0): BasicBlock(\n",
       "        (conv1): Conv2d(16, 16, kernel_size=(3, 3), stride=(1, 1), padding=(1, 1), bias=False)\n",
       "        (bn1): BatchNorm2d(16, eps=1e-05, momentum=0.1, affine=True, track_running_stats=True)\n",
       "        (conv2): Conv2d(16, 16, kernel_size=(3, 3), stride=(1, 1), padding=(1, 1), bias=False)\n",
       "        (bn2): BatchNorm2d(16, eps=1e-05, momentum=0.1, affine=True, track_running_stats=True)\n",
       "        (shortcut): Sequential()\n",
       "      )\n",
       "      (1): BasicBlock(\n",
       "        (conv1): Conv2d(16, 16, kernel_size=(3, 3), stride=(1, 1), padding=(1, 1), bias=False)\n",
       "        (bn1): BatchNorm2d(16, eps=1e-05, momentum=0.1, affine=True, track_running_stats=True)\n",
       "        (conv2): Conv2d(16, 16, kernel_size=(3, 3), stride=(1, 1), padding=(1, 1), bias=False)\n",
       "        (bn2): BatchNorm2d(16, eps=1e-05, momentum=0.1, affine=True, track_running_stats=True)\n",
       "        (shortcut): Sequential()\n",
       "      )\n",
       "    )\n",
       "    (layer2): Sequential(\n",
       "      (0): BasicBlock(\n",
       "        (conv1): Conv2d(16, 32, kernel_size=(3, 3), stride=(2, 2), padding=(1, 1), bias=False)\n",
       "        (bn1): BatchNorm2d(32, eps=1e-05, momentum=0.1, affine=True, track_running_stats=True)\n",
       "        (conv2): Conv2d(32, 32, kernel_size=(3, 3), stride=(1, 1), padding=(1, 1), bias=False)\n",
       "        (bn2): BatchNorm2d(32, eps=1e-05, momentum=0.1, affine=True, track_running_stats=True)\n",
       "        (shortcut): Sequential(\n",
       "          (0): Conv2d(16, 32, kernel_size=(1, 1), stride=(2, 2), bias=False)\n",
       "          (1): BatchNorm2d(32, eps=1e-05, momentum=0.1, affine=True, track_running_stats=True)\n",
       "        )\n",
       "      )\n",
       "      (1): BasicBlock(\n",
       "        (conv1): Conv2d(32, 32, kernel_size=(3, 3), stride=(1, 1), padding=(1, 1), bias=False)\n",
       "        (bn1): BatchNorm2d(32, eps=1e-05, momentum=0.1, affine=True, track_running_stats=True)\n",
       "        (conv2): Conv2d(32, 32, kernel_size=(3, 3), stride=(1, 1), padding=(1, 1), bias=False)\n",
       "        (bn2): BatchNorm2d(32, eps=1e-05, momentum=0.1, affine=True, track_running_stats=True)\n",
       "        (shortcut): Sequential()\n",
       "      )\n",
       "    )\n",
       "    (layer3): Sequential(\n",
       "      (0): BasicBlock(\n",
       "        (conv1): Conv2d(32, 64, kernel_size=(3, 3), stride=(2, 2), padding=(1, 1), bias=False)\n",
       "        (bn1): BatchNorm2d(64, eps=1e-05, momentum=0.1, affine=True, track_running_stats=True)\n",
       "        (conv2): Conv2d(64, 64, kernel_size=(3, 3), stride=(1, 1), padding=(1, 1), bias=False)\n",
       "        (bn2): BatchNorm2d(64, eps=1e-05, momentum=0.1, affine=True, track_running_stats=True)\n",
       "        (shortcut): Sequential(\n",
       "          (0): Conv2d(32, 64, kernel_size=(1, 1), stride=(2, 2), bias=False)\n",
       "          (1): BatchNorm2d(64, eps=1e-05, momentum=0.1, affine=True, track_running_stats=True)\n",
       "        )\n",
       "      )\n",
       "      (1): BasicBlock(\n",
       "        (conv1): Conv2d(64, 64, kernel_size=(3, 3), stride=(1, 1), padding=(1, 1), bias=False)\n",
       "        (bn1): BatchNorm2d(64, eps=1e-05, momentum=0.1, affine=True, track_running_stats=True)\n",
       "        (conv2): Conv2d(64, 64, kernel_size=(3, 3), stride=(1, 1), padding=(1, 1), bias=False)\n",
       "        (bn2): BatchNorm2d(64, eps=1e-05, momentum=0.1, affine=True, track_running_stats=True)\n",
       "        (shortcut): Sequential()\n",
       "      )\n",
       "    )\n",
       "    (layer4): Sequential(\n",
       "      (0): BasicBlock(\n",
       "        (conv1): Conv2d(64, 128, kernel_size=(3, 3), stride=(2, 2), padding=(1, 1), bias=False)\n",
       "        (bn1): BatchNorm2d(128, eps=1e-05, momentum=0.1, affine=True, track_running_stats=True)\n",
       "        (conv2): Conv2d(128, 128, kernel_size=(3, 3), stride=(1, 1), padding=(1, 1), bias=False)\n",
       "        (bn2): BatchNorm2d(128, eps=1e-05, momentum=0.1, affine=True, track_running_stats=True)\n",
       "        (shortcut): Sequential(\n",
       "          (0): Conv2d(64, 128, kernel_size=(1, 1), stride=(2, 2), bias=False)\n",
       "          (1): BatchNorm2d(128, eps=1e-05, momentum=0.1, affine=True, track_running_stats=True)\n",
       "        )\n",
       "      )\n",
       "      (1): BasicBlock(\n",
       "        (conv1): Conv2d(128, 128, kernel_size=(3, 3), stride=(1, 1), padding=(1, 1), bias=False)\n",
       "        (bn1): BatchNorm2d(128, eps=1e-05, momentum=0.1, affine=True, track_running_stats=True)\n",
       "        (conv2): Conv2d(128, 128, kernel_size=(3, 3), stride=(1, 1), padding=(1, 1), bias=False)\n",
       "        (bn2): BatchNorm2d(128, eps=1e-05, momentum=0.1, affine=True, track_running_stats=True)\n",
       "        (shortcut): Sequential()\n",
       "      )\n",
       "    )\n",
       "    (linear): Linear(in_features=128, out_features=10, bias=True)\n",
       "  )\n",
       ")"
      ]
     },
     "execution_count": 6,
     "metadata": {
      "tags": []
     },
     "output_type": "execute_result"
    }
   ],
   "source": [
    "model"
   ]
  },
  {
   "cell_type": "code",
   "execution_count": 7,
   "metadata": {
    "ExecuteTime": {
     "end_time": "2020-04-05T12:05:36.558256Z",
     "start_time": "2020-04-05T12:05:36.533272Z"
    },
    "colab": {
     "base_uri": "https://localhost:8080/",
     "height": 1000
    },
    "colab_type": "code",
    "executionInfo": {
     "elapsed": 1311120,
     "status": "ok",
     "timestamp": 1586402538927,
     "user": {
      "displayName": "Veera Vignesh",
      "photoUrl": "https://lh3.googleusercontent.com/a-/AOh14Gjqw56O345G0_zIqVnDR7wJL0C8XvD0lSwJRk7c=s64",
      "userId": "13970142588130859665"
     },
     "user_tz": -330
    },
    "id": "BWxytvCyPZwF",
    "outputId": "32713f0e-8e19-403a-aa86-fca5f7289ff1"
   },
   "outputs": [
    {
     "name": "stderr",
     "output_type": "stream",
     "text": [
      "Epochs:   0%|          | 1/200 [00:16<53:06, 16.01s/it]"
     ]
    },
    {
     "name": "stdout",
     "output_type": "stream",
     "text": [
      "Saving the current best model. Previous best loss = inf Current best loss = 1.304063521194458\n",
      "[ Epochs 0 | 200 ] :  train Loss: 1.6181 Acc: 0.3962 val Loss: 1.3041 Acc: 0.5230\n"
     ]
    },
    {
     "name": "stderr",
     "output_type": "stream",
     "text": [
      "Epochs:   1%|          | 2/200 [00:32<52:49, 16.01s/it]"
     ]
    },
    {
     "name": "stdout",
     "output_type": "stream",
     "text": [
      "[ Epochs 1 | 200 ] :  train Loss: 1.1439 Acc: 0.5887 val Loss: 1.3406 Acc: 0.5686\n"
     ]
    },
    {
     "name": "stderr",
     "output_type": "stream",
     "text": [
      "Epochs:   2%|▏         | 3/200 [00:48<52:40, 16.05s/it]"
     ]
    },
    {
     "name": "stdout",
     "output_type": "stream",
     "text": [
      "Saving the current best model. Previous best loss = 1.304063521194458 Current best loss = 1.0969484020233153\n",
      "[ Epochs 2 | 200 ] :  train Loss: 0.9070 Acc: 0.6788 val Loss: 1.0969 Acc: 0.6243\n"
     ]
    },
    {
     "name": "stderr",
     "output_type": "stream",
     "text": [
      "Epochs:   2%|▏         | 4/200 [01:04<52:33, 16.09s/it]"
     ]
    },
    {
     "name": "stdout",
     "output_type": "stream",
     "text": [
      "[ Epochs 3 | 200 ] :  train Loss: 0.7739 Acc: 0.7302 val Loss: 1.1191 Acc: 0.6325\n"
     ]
    },
    {
     "name": "stderr",
     "output_type": "stream",
     "text": [
      "Epochs:   2%|▎         | 5/200 [01:20<52:04, 16.02s/it]"
     ]
    },
    {
     "name": "stdout",
     "output_type": "stream",
     "text": [
      "Saving the current best model. Previous best loss = 1.0969484020233153 Current best loss = 0.8228142402648926\n",
      "[ Epochs 4 | 200 ] :  train Loss: 0.6889 Acc: 0.7605 val Loss: 0.8228 Acc: 0.7286\n"
     ]
    },
    {
     "name": "stderr",
     "output_type": "stream",
     "text": [
      "Epochs:   3%|▎         | 6/200 [01:36<51:41, 15.99s/it]"
     ]
    },
    {
     "name": "stdout",
     "output_type": "stream",
     "text": [
      "[ Epochs 5 | 200 ] :  train Loss: 0.6466 Acc: 0.7763 val Loss: 0.9361 Acc: 0.6923\n"
     ]
    },
    {
     "name": "stderr",
     "output_type": "stream",
     "text": [
      "Epochs:   4%|▎         | 7/200 [01:52<51:25, 15.99s/it]"
     ]
    },
    {
     "name": "stdout",
     "output_type": "stream",
     "text": [
      "Saving the current best model. Previous best loss = 0.8228142402648926 Current best loss = 0.7115872427463531\n",
      "[ Epochs 6 | 200 ] :  train Loss: 0.6135 Acc: 0.7872 val Loss: 0.7116 Acc: 0.7556\n"
     ]
    },
    {
     "name": "stderr",
     "output_type": "stream",
     "text": [
      "Epochs:   4%|▍         | 8/200 [02:08<51:16, 16.02s/it]"
     ]
    },
    {
     "name": "stdout",
     "output_type": "stream",
     "text": [
      "[ Epochs 7 | 200 ] :  train Loss: 0.5892 Acc: 0.7981 val Loss: 0.8164 Acc: 0.7261\n"
     ]
    },
    {
     "name": "stderr",
     "output_type": "stream",
     "text": [
      "Epochs:   4%|▍         | 9/200 [02:24<50:49, 15.97s/it]"
     ]
    },
    {
     "name": "stdout",
     "output_type": "stream",
     "text": [
      "[ Epochs 8 | 200 ] :  train Loss: 0.5769 Acc: 0.8013 val Loss: 0.7240 Acc: 0.7538\n"
     ]
    },
    {
     "name": "stderr",
     "output_type": "stream",
     "text": [
      "Epochs:   5%|▌         | 10/200 [02:40<50:57, 16.09s/it]"
     ]
    },
    {
     "name": "stdout",
     "output_type": "stream",
     "text": [
      "[ Epochs 9 | 200 ] :  train Loss: 0.5567 Acc: 0.8072 val Loss: 0.7405 Acc: 0.7549\n"
     ]
    },
    {
     "name": "stderr",
     "output_type": "stream",
     "text": [
      "Epochs:   6%|▌         | 11/200 [02:56<50:53, 16.16s/it]"
     ]
    },
    {
     "name": "stdout",
     "output_type": "stream",
     "text": [
      "Saving the current best model. Previous best loss = 0.7115872427463531 Current best loss = 0.6544089359283447\n",
      "[ Epochs 10 | 200 ] :  train Loss: 0.5468 Acc: 0.8112 val Loss: 0.6544 Acc: 0.7826\n"
     ]
    },
    {
     "name": "stderr",
     "output_type": "stream",
     "text": [
      "Epochs:   6%|▌         | 12/200 [03:12<50:41, 16.18s/it]"
     ]
    },
    {
     "name": "stdout",
     "output_type": "stream",
     "text": [
      "[ Epochs 11 | 200 ] :  train Loss: 0.5366 Acc: 0.8156 val Loss: 0.7257 Acc: 0.7632\n"
     ]
    },
    {
     "name": "stderr",
     "output_type": "stream",
     "text": [
      "Epochs:   6%|▋         | 13/200 [03:29<50:23, 16.17s/it]"
     ]
    },
    {
     "name": "stdout",
     "output_type": "stream",
     "text": [
      "[ Epochs 12 | 200 ] :  train Loss: 0.5248 Acc: 0.8206 val Loss: 0.6957 Acc: 0.7743\n"
     ]
    },
    {
     "name": "stderr",
     "output_type": "stream",
     "text": [
      "Epochs:   7%|▋         | 14/200 [03:45<50:17, 16.22s/it]"
     ]
    },
    {
     "name": "stdout",
     "output_type": "stream",
     "text": [
      "[ Epochs 13 | 200 ] :  train Loss: 0.5181 Acc: 0.8216 val Loss: 0.6991 Acc: 0.7653\n"
     ]
    },
    {
     "name": "stderr",
     "output_type": "stream",
     "text": [
      "Epochs:   8%|▊         | 15/200 [04:01<49:53, 16.18s/it]"
     ]
    },
    {
     "name": "stdout",
     "output_type": "stream",
     "text": [
      "Saving the current best model. Previous best loss = 0.6544089359283447 Current best loss = 0.6423356912612915\n",
      "[ Epochs 14 | 200 ] :  train Loss: 0.5116 Acc: 0.8232 val Loss: 0.6423 Acc: 0.7820\n"
     ]
    },
    {
     "name": "stderr",
     "output_type": "stream",
     "text": [
      "Epochs:   8%|▊         | 16/200 [04:17<49:36, 16.18s/it]"
     ]
    },
    {
     "name": "stdout",
     "output_type": "stream",
     "text": [
      "Saving the current best model. Previous best loss = 0.6423356912612915 Current best loss = 0.569135928440094\n",
      "[ Epochs 15 | 200 ] :  train Loss: 0.5060 Acc: 0.8241 val Loss: 0.5691 Acc: 0.8076\n"
     ]
    },
    {
     "name": "stderr",
     "output_type": "stream",
     "text": [
      "Epochs:   8%|▊         | 17/200 [04:33<49:10, 16.12s/it]"
     ]
    },
    {
     "name": "stdout",
     "output_type": "stream",
     "text": [
      "[ Epochs 16 | 200 ] :  train Loss: 0.4960 Acc: 0.8297 val Loss: 0.9402 Acc: 0.6958\n"
     ]
    },
    {
     "name": "stderr",
     "output_type": "stream",
     "text": [
      "Epochs:   9%|▉         | 18/200 [04:50<49:07, 16.20s/it]"
     ]
    },
    {
     "name": "stdout",
     "output_type": "stream",
     "text": [
      "[ Epochs 17 | 200 ] :  train Loss: 0.4999 Acc: 0.8282 val Loss: 0.6810 Acc: 0.7698\n"
     ]
    },
    {
     "name": "stderr",
     "output_type": "stream",
     "text": [
      "Epochs:  10%|▉         | 19/200 [05:06<48:56, 16.23s/it]"
     ]
    },
    {
     "name": "stdout",
     "output_type": "stream",
     "text": [
      "[ Epochs 18 | 200 ] :  train Loss: 0.4895 Acc: 0.8315 val Loss: 0.5930 Acc: 0.8007\n"
     ]
    },
    {
     "name": "stderr",
     "output_type": "stream",
     "text": [
      "Epochs:  10%|█         | 20/200 [05:22<48:35, 16.20s/it]"
     ]
    },
    {
     "name": "stdout",
     "output_type": "stream",
     "text": [
      "[ Epochs 19 | 200 ] :  train Loss: 0.4889 Acc: 0.8325 val Loss: 0.7538 Acc: 0.7421\n"
     ]
    },
    {
     "name": "stderr",
     "output_type": "stream",
     "text": [
      "Epochs:  10%|█         | 21/200 [05:38<48:25, 16.23s/it]"
     ]
    },
    {
     "name": "stdout",
     "output_type": "stream",
     "text": [
      "[ Epochs 20 | 200 ] :  train Loss: 0.4865 Acc: 0.8336 val Loss: 1.2032 Acc: 0.6698\n"
     ]
    },
    {
     "name": "stderr",
     "output_type": "stream",
     "text": [
      "Epochs:  11%|█         | 22/200 [05:54<48:02, 16.19s/it]"
     ]
    },
    {
     "name": "stdout",
     "output_type": "stream",
     "text": [
      "[ Epochs 21 | 200 ] :  train Loss: 0.4826 Acc: 0.8343 val Loss: 0.9404 Acc: 0.7102\n"
     ]
    },
    {
     "name": "stderr",
     "output_type": "stream",
     "text": [
      "Epochs:  12%|█▏        | 23/200 [06:11<47:55, 16.24s/it]"
     ]
    },
    {
     "name": "stdout",
     "output_type": "stream",
     "text": [
      "[ Epochs 22 | 200 ] :  train Loss: 0.4783 Acc: 0.8363 val Loss: 0.7455 Acc: 0.7595\n"
     ]
    },
    {
     "name": "stderr",
     "output_type": "stream",
     "text": [
      "Epochs:  12%|█▏        | 24/200 [06:27<47:33, 16.21s/it]"
     ]
    },
    {
     "name": "stdout",
     "output_type": "stream",
     "text": [
      "[ Epochs 23 | 200 ] :  train Loss: 0.4787 Acc: 0.8338 val Loss: 0.6384 Acc: 0.7870\n"
     ]
    },
    {
     "name": "stderr",
     "output_type": "stream",
     "text": [
      "Epochs:  12%|█▎        | 25/200 [06:43<47:14, 16.20s/it]"
     ]
    },
    {
     "name": "stdout",
     "output_type": "stream",
     "text": [
      "[ Epochs 24 | 200 ] :  train Loss: 0.4717 Acc: 0.8377 val Loss: 0.7421 Acc: 0.7652\n",
      "LR: 0.1,CURR_LR: 0.05\n"
     ]
    },
    {
     "name": "stderr",
     "output_type": "stream",
     "text": [
      "Epochs:  13%|█▎        | 26/200 [06:59<46:59, 16.20s/it]"
     ]
    },
    {
     "name": "stdout",
     "output_type": "stream",
     "text": [
      "Saving the current best model. Previous best loss = 0.569135928440094 Current best loss = 0.4552680000782013\n",
      "[ Epochs 25 | 200 ] :  train Loss: 0.3708 Acc: 0.8736 val Loss: 0.4553 Acc: 0.8516\n"
     ]
    },
    {
     "name": "stderr",
     "output_type": "stream",
     "text": [
      "Epochs:  14%|█▎        | 27/200 [07:16<46:44, 16.21s/it]"
     ]
    },
    {
     "name": "stdout",
     "output_type": "stream",
     "text": [
      "Saving the current best model. Previous best loss = 0.4552680000782013 Current best loss = 0.4401055324077606\n",
      "[ Epochs 26 | 200 ] :  train Loss: 0.3595 Acc: 0.8768 val Loss: 0.4401 Acc: 0.8514\n"
     ]
    },
    {
     "name": "stderr",
     "output_type": "stream",
     "text": [
      "Epochs:  14%|█▍        | 28/200 [07:32<46:27, 16.20s/it]"
     ]
    },
    {
     "name": "stdout",
     "output_type": "stream",
     "text": [
      "[ Epochs 27 | 200 ] :  train Loss: 0.3566 Acc: 0.8778 val Loss: 0.4831 Acc: 0.8437\n"
     ]
    },
    {
     "name": "stderr",
     "output_type": "stream",
     "text": [
      "Epochs:  14%|█▍        | 29/200 [07:48<46:19, 16.25s/it]"
     ]
    },
    {
     "name": "stdout",
     "output_type": "stream",
     "text": [
      "[ Epochs 28 | 200 ] :  train Loss: 0.3589 Acc: 0.8760 val Loss: 0.7538 Acc: 0.7696\n"
     ]
    },
    {
     "name": "stderr",
     "output_type": "stream",
     "text": [
      "Epochs:  15%|█▌        | 30/200 [08:04<46:11, 16.30s/it]"
     ]
    },
    {
     "name": "stdout",
     "output_type": "stream",
     "text": [
      "[ Epochs 29 | 200 ] :  train Loss: 0.3677 Acc: 0.8730 val Loss: 0.4719 Acc: 0.8446\n"
     ]
    },
    {
     "name": "stderr",
     "output_type": "stream",
     "text": [
      "Epochs:  16%|█▌        | 31/200 [08:21<45:49, 16.27s/it]"
     ]
    },
    {
     "name": "stdout",
     "output_type": "stream",
     "text": [
      "[ Epochs 30 | 200 ] :  train Loss: 0.3644 Acc: 0.8736 val Loss: 0.4595 Acc: 0.8472\n"
     ]
    },
    {
     "name": "stderr",
     "output_type": "stream",
     "text": [
      "Epochs:  16%|█▌        | 32/200 [08:37<45:22, 16.20s/it]"
     ]
    },
    {
     "name": "stdout",
     "output_type": "stream",
     "text": [
      "[ Epochs 31 | 200 ] :  train Loss: 0.3590 Acc: 0.8775 val Loss: 0.5481 Acc: 0.8142\n"
     ]
    },
    {
     "name": "stderr",
     "output_type": "stream",
     "text": [
      "Epochs:  16%|█▋        | 33/200 [08:53<45:21, 16.30s/it]"
     ]
    },
    {
     "name": "stdout",
     "output_type": "stream",
     "text": [
      "[ Epochs 32 | 200 ] :  train Loss: 0.3621 Acc: 0.8752 val Loss: 0.5701 Acc: 0.8086\n"
     ]
    },
    {
     "name": "stderr",
     "output_type": "stream",
     "text": [
      "Epochs:  17%|█▋        | 34/200 [09:09<44:58, 16.26s/it]"
     ]
    },
    {
     "name": "stdout",
     "output_type": "stream",
     "text": [
      "[ Epochs 33 | 200 ] :  train Loss: 0.3607 Acc: 0.8755 val Loss: 0.4644 Acc: 0.8460\n"
     ]
    },
    {
     "name": "stderr",
     "output_type": "stream",
     "text": [
      "Epochs:  18%|█▊        | 35/200 [09:26<44:34, 16.21s/it]"
     ]
    },
    {
     "name": "stdout",
     "output_type": "stream",
     "text": [
      "[ Epochs 34 | 200 ] :  train Loss: 0.3554 Acc: 0.8771 val Loss: 0.5337 Acc: 0.8188\n"
     ]
    },
    {
     "name": "stderr",
     "output_type": "stream",
     "text": [
      "Epochs:  18%|█▊        | 36/200 [09:41<44:07, 16.14s/it]"
     ]
    },
    {
     "name": "stdout",
     "output_type": "stream",
     "text": [
      "[ Epochs 35 | 200 ] :  train Loss: 0.3616 Acc: 0.8755 val Loss: 0.6803 Acc: 0.7889\n"
     ]
    },
    {
     "name": "stderr",
     "output_type": "stream",
     "text": [
      "Epochs:  18%|█▊        | 37/200 [09:58<43:58, 16.19s/it]"
     ]
    },
    {
     "name": "stdout",
     "output_type": "stream",
     "text": [
      "[ Epochs 36 | 200 ] :  train Loss: 0.3591 Acc: 0.8751 val Loss: 0.5010 Acc: 0.8288\n"
     ]
    },
    {
     "name": "stderr",
     "output_type": "stream",
     "text": [
      "Epochs:  19%|█▉        | 38/200 [10:14<43:41, 16.18s/it]"
     ]
    },
    {
     "name": "stdout",
     "output_type": "stream",
     "text": [
      "[ Epochs 37 | 200 ] :  train Loss: 0.3540 Acc: 0.8789 val Loss: 0.5654 Acc: 0.8131\n"
     ]
    },
    {
     "name": "stderr",
     "output_type": "stream",
     "text": [
      "Epochs:  20%|█▉        | 39/200 [10:30<43:26, 16.19s/it]"
     ]
    },
    {
     "name": "stdout",
     "output_type": "stream",
     "text": [
      "[ Epochs 38 | 200 ] :  train Loss: 0.3478 Acc: 0.8779 val Loss: 0.5489 Acc: 0.8177\n"
     ]
    },
    {
     "name": "stderr",
     "output_type": "stream",
     "text": [
      "Epochs:  20%|██        | 40/200 [10:46<43:01, 16.14s/it]"
     ]
    },
    {
     "name": "stdout",
     "output_type": "stream",
     "text": [
      "[ Epochs 39 | 200 ] :  train Loss: 0.3498 Acc: 0.8782 val Loss: 0.5447 Acc: 0.8200\n"
     ]
    },
    {
     "name": "stderr",
     "output_type": "stream",
     "text": [
      "Epochs:  20%|██        | 41/200 [11:02<42:44, 16.13s/it]"
     ]
    },
    {
     "name": "stdout",
     "output_type": "stream",
     "text": [
      "[ Epochs 40 | 200 ] :  train Loss: 0.3503 Acc: 0.8791 val Loss: 0.4701 Acc: 0.8404\n"
     ]
    },
    {
     "name": "stderr",
     "output_type": "stream",
     "text": [
      "Epochs:  21%|██        | 42/200 [11:18<42:21, 16.09s/it]"
     ]
    },
    {
     "name": "stdout",
     "output_type": "stream",
     "text": [
      "[ Epochs 41 | 200 ] :  train Loss: 0.3497 Acc: 0.8797 val Loss: 0.4436 Acc: 0.8516\n"
     ]
    },
    {
     "name": "stderr",
     "output_type": "stream",
     "text": [
      "Epochs:  22%|██▏       | 43/200 [11:34<42:10, 16.12s/it]"
     ]
    },
    {
     "name": "stdout",
     "output_type": "stream",
     "text": [
      "[ Epochs 42 | 200 ] :  train Loss: 0.3451 Acc: 0.8806 val Loss: 0.4978 Acc: 0.8368\n"
     ]
    },
    {
     "name": "stderr",
     "output_type": "stream",
     "text": [
      "Epochs:  22%|██▏       | 44/200 [11:50<41:48, 16.08s/it]"
     ]
    },
    {
     "name": "stdout",
     "output_type": "stream",
     "text": [
      "[ Epochs 43 | 200 ] :  train Loss: 0.3433 Acc: 0.8821 val Loss: 0.5570 Acc: 0.8081\n"
     ]
    },
    {
     "name": "stderr",
     "output_type": "stream",
     "text": [
      "Epochs:  22%|██▎       | 45/200 [12:07<41:34, 16.09s/it]"
     ]
    },
    {
     "name": "stdout",
     "output_type": "stream",
     "text": [
      "[ Epochs 44 | 200 ] :  train Loss: 0.3437 Acc: 0.8797 val Loss: 0.4445 Acc: 0.8468\n"
     ]
    },
    {
     "name": "stderr",
     "output_type": "stream",
     "text": [
      "Epochs:  23%|██▎       | 46/200 [12:23<41:13, 16.06s/it]"
     ]
    },
    {
     "name": "stdout",
     "output_type": "stream",
     "text": [
      "[ Epochs 45 | 200 ] :  train Loss: 0.3422 Acc: 0.8823 val Loss: 0.5840 Acc: 0.8059\n"
     ]
    },
    {
     "name": "stderr",
     "output_type": "stream",
     "text": [
      "Epochs:  24%|██▎       | 47/200 [12:39<41:01, 16.09s/it]"
     ]
    },
    {
     "name": "stdout",
     "output_type": "stream",
     "text": [
      "[ Epochs 46 | 200 ] :  train Loss: 0.3413 Acc: 0.8822 val Loss: 0.5004 Acc: 0.8339\n"
     ]
    },
    {
     "name": "stderr",
     "output_type": "stream",
     "text": [
      "Epochs:  24%|██▍       | 48/200 [12:55<40:46, 16.09s/it]"
     ]
    },
    {
     "name": "stdout",
     "output_type": "stream",
     "text": [
      "[ Epochs 47 | 200 ] :  train Loss: 0.3428 Acc: 0.8826 val Loss: 0.4457 Acc: 0.8498\n"
     ]
    },
    {
     "name": "stderr",
     "output_type": "stream",
     "text": [
      "Epochs:  24%|██▍       | 49/200 [13:11<40:40, 16.16s/it]"
     ]
    },
    {
     "name": "stdout",
     "output_type": "stream",
     "text": [
      "[ Epochs 48 | 200 ] :  train Loss: 0.3374 Acc: 0.8832 val Loss: 0.5008 Acc: 0.8369\n"
     ]
    },
    {
     "name": "stderr",
     "output_type": "stream",
     "text": [
      "Epochs:  25%|██▌       | 50/200 [13:27<40:17, 16.12s/it]"
     ]
    },
    {
     "name": "stdout",
     "output_type": "stream",
     "text": [
      "[ Epochs 49 | 200 ] :  train Loss: 0.3340 Acc: 0.8845 val Loss: 0.5007 Acc: 0.8335\n",
      "LR: 0.05,CURR_LR: 0.025\n"
     ]
    },
    {
     "name": "stderr",
     "output_type": "stream",
     "text": [
      "Epochs:  26%|██▌       | 51/200 [13:43<40:03, 16.13s/it]"
     ]
    },
    {
     "name": "stdout",
     "output_type": "stream",
     "text": [
      "Saving the current best model. Previous best loss = 0.4401055324077606 Current best loss = 0.35261216359138486\n",
      "[ Epochs 50 | 200 ] :  train Loss: 0.2505 Acc: 0.9123 val Loss: 0.3526 Acc: 0.8815\n"
     ]
    },
    {
     "name": "stderr",
     "output_type": "stream",
     "text": [
      "Epochs:  26%|██▌       | 52/200 [13:59<39:45, 16.12s/it]"
     ]
    },
    {
     "name": "stdout",
     "output_type": "stream",
     "text": [
      "[ Epochs 51 | 200 ] :  train Loss: 0.2357 Acc: 0.9181 val Loss: 0.3620 Acc: 0.8783\n"
     ]
    },
    {
     "name": "stderr",
     "output_type": "stream",
     "text": [
      "Epochs:  26%|██▋       | 53/200 [14:15<39:27, 16.11s/it]"
     ]
    },
    {
     "name": "stdout",
     "output_type": "stream",
     "text": [
      "[ Epochs 52 | 200 ] :  train Loss: 0.2326 Acc: 0.9197 val Loss: 0.3792 Acc: 0.8764\n"
     ]
    },
    {
     "name": "stderr",
     "output_type": "stream",
     "text": [
      "Epochs:  27%|██▋       | 54/200 [14:32<39:13, 16.12s/it]"
     ]
    },
    {
     "name": "stdout",
     "output_type": "stream",
     "text": [
      "[ Epochs 53 | 200 ] :  train Loss: 0.2352 Acc: 0.9181 val Loss: 0.3773 Acc: 0.8763\n"
     ]
    },
    {
     "name": "stderr",
     "output_type": "stream",
     "text": [
      "Epochs:  28%|██▊       | 55/200 [14:48<38:51, 16.08s/it]"
     ]
    },
    {
     "name": "stdout",
     "output_type": "stream",
     "text": [
      "[ Epochs 54 | 200 ] :  train Loss: 0.2367 Acc: 0.9186 val Loss: 0.3892 Acc: 0.8759\n"
     ]
    },
    {
     "name": "stderr",
     "output_type": "stream",
     "text": [
      "Epochs:  28%|██▊       | 56/200 [15:04<38:42, 16.13s/it]"
     ]
    },
    {
     "name": "stdout",
     "output_type": "stream",
     "text": [
      "[ Epochs 55 | 200 ] :  train Loss: 0.2354 Acc: 0.9199 val Loss: 0.4009 Acc: 0.8707\n"
     ]
    },
    {
     "name": "stderr",
     "output_type": "stream",
     "text": [
      "Epochs:  28%|██▊       | 57/200 [15:20<38:20, 16.08s/it]"
     ]
    },
    {
     "name": "stdout",
     "output_type": "stream",
     "text": [
      "[ Epochs 56 | 200 ] :  train Loss: 0.2330 Acc: 0.9192 val Loss: 0.3733 Acc: 0.8761\n"
     ]
    },
    {
     "name": "stderr",
     "output_type": "stream",
     "text": [
      "Epochs:  29%|██▉       | 58/200 [15:36<38:11, 16.14s/it]"
     ]
    },
    {
     "name": "stdout",
     "output_type": "stream",
     "text": [
      "[ Epochs 57 | 200 ] :  train Loss: 0.2366 Acc: 0.9186 val Loss: 0.3792 Acc: 0.8775\n"
     ]
    },
    {
     "name": "stderr",
     "output_type": "stream",
     "text": [
      "Epochs:  30%|██▉       | 59/200 [15:52<37:50, 16.10s/it]"
     ]
    },
    {
     "name": "stdout",
     "output_type": "stream",
     "text": [
      "[ Epochs 58 | 200 ] :  train Loss: 0.2335 Acc: 0.9173 val Loss: 0.3774 Acc: 0.8789\n"
     ]
    },
    {
     "name": "stderr",
     "output_type": "stream",
     "text": [
      "Epochs:  30%|███       | 60/200 [16:08<37:42, 16.16s/it]"
     ]
    },
    {
     "name": "stdout",
     "output_type": "stream",
     "text": [
      "[ Epochs 59 | 200 ] :  train Loss: 0.2371 Acc: 0.9179 val Loss: 0.3753 Acc: 0.8812\n"
     ]
    },
    {
     "name": "stderr",
     "output_type": "stream",
     "text": [
      "Epochs:  30%|███       | 61/200 [16:24<37:18, 16.10s/it]"
     ]
    },
    {
     "name": "stdout",
     "output_type": "stream",
     "text": [
      "[ Epochs 60 | 200 ] :  train Loss: 0.2397 Acc: 0.9171 val Loss: 0.4782 Acc: 0.8463\n"
     ]
    },
    {
     "name": "stderr",
     "output_type": "stream",
     "text": [
      "Epochs:  31%|███       | 62/200 [16:41<37:05, 16.13s/it]"
     ]
    },
    {
     "name": "stdout",
     "output_type": "stream",
     "text": [
      "[ Epochs 61 | 200 ] :  train Loss: 0.2398 Acc: 0.9172 val Loss: 0.3898 Acc: 0.8689\n"
     ]
    },
    {
     "name": "stderr",
     "output_type": "stream",
     "text": [
      "Epochs:  32%|███▏      | 63/200 [16:57<36:43, 16.08s/it]"
     ]
    },
    {
     "name": "stdout",
     "output_type": "stream",
     "text": [
      "[ Epochs 62 | 200 ] :  train Loss: 0.2399 Acc: 0.9148 val Loss: 0.3672 Acc: 0.8814\n"
     ]
    },
    {
     "name": "stderr",
     "output_type": "stream",
     "text": [
      "Epochs:  32%|███▏      | 64/200 [17:13<36:28, 16.09s/it]"
     ]
    },
    {
     "name": "stdout",
     "output_type": "stream",
     "text": [
      "[ Epochs 63 | 200 ] :  train Loss: 0.2395 Acc: 0.9169 val Loss: 0.3811 Acc: 0.8771\n"
     ]
    },
    {
     "name": "stderr",
     "output_type": "stream",
     "text": [
      "Epochs:  32%|███▎      | 65/200 [17:29<36:02, 16.02s/it]"
     ]
    },
    {
     "name": "stdout",
     "output_type": "stream",
     "text": [
      "[ Epochs 64 | 200 ] :  train Loss: 0.2391 Acc: 0.9181 val Loss: 0.3615 Acc: 0.8828\n"
     ]
    },
    {
     "name": "stderr",
     "output_type": "stream",
     "text": [
      "Epochs:  33%|███▎      | 66/200 [17:45<35:49, 16.04s/it]"
     ]
    },
    {
     "name": "stdout",
     "output_type": "stream",
     "text": [
      "[ Epochs 65 | 200 ] :  train Loss: 0.2368 Acc: 0.9177 val Loss: 0.4009 Acc: 0.8686\n"
     ]
    },
    {
     "name": "stderr",
     "output_type": "stream",
     "text": [
      "Epochs:  34%|███▎      | 67/200 [18:00<35:23, 15.97s/it]"
     ]
    },
    {
     "name": "stdout",
     "output_type": "stream",
     "text": [
      "[ Epochs 66 | 200 ] :  train Loss: 0.2362 Acc: 0.9183 val Loss: 0.3700 Acc: 0.8812\n"
     ]
    },
    {
     "name": "stderr",
     "output_type": "stream",
     "text": [
      "Epochs:  34%|███▍      | 68/200 [18:17<35:14, 16.02s/it]"
     ]
    },
    {
     "name": "stdout",
     "output_type": "stream",
     "text": [
      "[ Epochs 67 | 200 ] :  train Loss: 0.2366 Acc: 0.9177 val Loss: 0.3836 Acc: 0.8796\n"
     ]
    },
    {
     "name": "stderr",
     "output_type": "stream",
     "text": [
      "Epochs:  34%|███▍      | 69/200 [18:32<34:54, 15.99s/it]"
     ]
    },
    {
     "name": "stdout",
     "output_type": "stream",
     "text": [
      "[ Epochs 68 | 200 ] :  train Loss: 0.2351 Acc: 0.9187 val Loss: 0.3898 Acc: 0.8753\n"
     ]
    },
    {
     "name": "stderr",
     "output_type": "stream",
     "text": [
      "Epochs:  35%|███▌      | 70/200 [18:49<34:43, 16.03s/it]"
     ]
    },
    {
     "name": "stdout",
     "output_type": "stream",
     "text": [
      "[ Epochs 69 | 200 ] :  train Loss: 0.2372 Acc: 0.9183 val Loss: 0.3853 Acc: 0.8789\n"
     ]
    },
    {
     "name": "stderr",
     "output_type": "stream",
     "text": [
      "Epochs:  36%|███▌      | 71/200 [19:04<34:16, 15.94s/it]"
     ]
    },
    {
     "name": "stdout",
     "output_type": "stream",
     "text": [
      "[ Epochs 70 | 200 ] :  train Loss: 0.2339 Acc: 0.9176 val Loss: 0.4410 Acc: 0.8648\n"
     ]
    },
    {
     "name": "stderr",
     "output_type": "stream",
     "text": [
      "Epochs:  36%|███▌      | 72/200 [19:20<33:57, 15.92s/it]"
     ]
    },
    {
     "name": "stdout",
     "output_type": "stream",
     "text": [
      "[ Epochs 71 | 200 ] :  train Loss: 0.2322 Acc: 0.9190 val Loss: 0.3721 Acc: 0.8793\n"
     ]
    },
    {
     "name": "stderr",
     "output_type": "stream",
     "text": [
      "Epochs:  36%|███▋      | 73/200 [19:36<33:34, 15.86s/it]"
     ]
    },
    {
     "name": "stdout",
     "output_type": "stream",
     "text": [
      "[ Epochs 72 | 200 ] :  train Loss: 0.2329 Acc: 0.9195 val Loss: 0.3867 Acc: 0.8721\n"
     ]
    },
    {
     "name": "stderr",
     "output_type": "stream",
     "text": [
      "Epochs:  37%|███▋      | 74/200 [19:52<33:24, 15.91s/it]"
     ]
    },
    {
     "name": "stdout",
     "output_type": "stream",
     "text": [
      "[ Epochs 73 | 200 ] :  train Loss: 0.2288 Acc: 0.9189 val Loss: 0.4102 Acc: 0.8692\n"
     ]
    },
    {
     "name": "stderr",
     "output_type": "stream",
     "text": [
      "Epochs:  38%|███▊      | 75/200 [20:08<33:12, 15.94s/it]"
     ]
    },
    {
     "name": "stdout",
     "output_type": "stream",
     "text": [
      "[ Epochs 74 | 200 ] :  train Loss: 0.2317 Acc: 0.9185 val Loss: 0.3866 Acc: 0.8746\n",
      "LR: 0.025,CURR_LR: 0.0125\n"
     ]
    },
    {
     "name": "stderr",
     "output_type": "stream",
     "text": [
      "Epochs:  38%|███▊      | 76/200 [20:24<32:50, 15.89s/it]"
     ]
    },
    {
     "name": "stdout",
     "output_type": "stream",
     "text": [
      "Saving the current best model. Previous best loss = 0.35261216359138486 Current best loss = 0.3273295304298401\n",
      "[ Epochs 75 | 200 ] :  train Loss: 0.1627 Acc: 0.9433 val Loss: 0.3273 Acc: 0.8929\n"
     ]
    },
    {
     "name": "stderr",
     "output_type": "stream",
     "text": [
      "Epochs:  38%|███▊      | 77/200 [20:40<32:31, 15.86s/it]"
     ]
    },
    {
     "name": "stdout",
     "output_type": "stream",
     "text": [
      "Saving the current best model. Previous best loss = 0.3273295304298401 Current best loss = 0.31929430656433105\n",
      "[ Epochs 76 | 200 ] :  train Loss: 0.1496 Acc: 0.9486 val Loss: 0.3193 Acc: 0.8956\n"
     ]
    },
    {
     "name": "stderr",
     "output_type": "stream",
     "text": [
      "Epochs:  39%|███▉      | 78/200 [20:55<32:14, 15.86s/it]"
     ]
    },
    {
     "name": "stdout",
     "output_type": "stream",
     "text": [
      "[ Epochs 77 | 200 ] :  train Loss: 0.1377 Acc: 0.9522 val Loss: 0.3454 Acc: 0.8920\n"
     ]
    },
    {
     "name": "stderr",
     "output_type": "stream",
     "text": [
      "Epochs:  40%|███▉      | 79/200 [21:11<31:59, 15.86s/it]"
     ]
    },
    {
     "name": "stdout",
     "output_type": "stream",
     "text": [
      "[ Epochs 78 | 200 ] :  train Loss: 0.1392 Acc: 0.9521 val Loss: 0.3253 Acc: 0.8978\n"
     ]
    },
    {
     "name": "stderr",
     "output_type": "stream",
     "text": [
      "Epochs:  40%|████      | 80/200 [21:27<31:36, 15.80s/it]"
     ]
    },
    {
     "name": "stdout",
     "output_type": "stream",
     "text": [
      "[ Epochs 79 | 200 ] :  train Loss: 0.1390 Acc: 0.9518 val Loss: 0.3253 Acc: 0.8994\n"
     ]
    },
    {
     "name": "stderr",
     "output_type": "stream",
     "text": [
      "Epochs:  40%|████      | 81/200 [21:43<31:20, 15.80s/it]"
     ]
    },
    {
     "name": "stdout",
     "output_type": "stream",
     "text": [
      "Saving the current best model. Previous best loss = 0.31929430656433105 Current best loss = 0.3122162230014801\n",
      "[ Epochs 80 | 200 ] :  train Loss: 0.1390 Acc: 0.9527 val Loss: 0.3122 Acc: 0.9028\n"
     ]
    },
    {
     "name": "stderr",
     "output_type": "stream",
     "text": [
      "Epochs:  41%|████      | 82/200 [21:58<30:55, 15.72s/it]"
     ]
    },
    {
     "name": "stdout",
     "output_type": "stream",
     "text": [
      "[ Epochs 81 | 200 ] :  train Loss: 0.1355 Acc: 0.9523 val Loss: 0.3480 Acc: 0.8931\n"
     ]
    },
    {
     "name": "stderr",
     "output_type": "stream",
     "text": [
      "Epochs:  42%|████▏     | 83/200 [22:14<30:43, 15.75s/it]"
     ]
    },
    {
     "name": "stdout",
     "output_type": "stream",
     "text": [
      "[ Epochs 82 | 200 ] :  train Loss: 0.1380 Acc: 0.9525 val Loss: 0.3653 Acc: 0.8897\n"
     ]
    },
    {
     "name": "stderr",
     "output_type": "stream",
     "text": [
      "Epochs:  42%|████▏     | 84/200 [22:30<30:38, 15.85s/it]"
     ]
    },
    {
     "name": "stdout",
     "output_type": "stream",
     "text": [
      "[ Epochs 83 | 200 ] :  train Loss: 0.1428 Acc: 0.9496 val Loss: 0.3610 Acc: 0.8934\n"
     ]
    },
    {
     "name": "stderr",
     "output_type": "stream",
     "text": [
      "Epochs:  42%|████▎     | 85/200 [22:46<30:19, 15.82s/it]"
     ]
    },
    {
     "name": "stdout",
     "output_type": "stream",
     "text": [
      "[ Epochs 84 | 200 ] :  train Loss: 0.1422 Acc: 0.9499 val Loss: 0.3715 Acc: 0.8840\n"
     ]
    },
    {
     "name": "stderr",
     "output_type": "stream",
     "text": [
      "Epochs:  43%|████▎     | 86/200 [23:02<30:05, 15.84s/it]"
     ]
    },
    {
     "name": "stdout",
     "output_type": "stream",
     "text": [
      "[ Epochs 85 | 200 ] :  train Loss: 0.1424 Acc: 0.9508 val Loss: 0.3526 Acc: 0.8924\n"
     ]
    },
    {
     "name": "stderr",
     "output_type": "stream",
     "text": [
      "Epochs:  44%|████▎     | 87/200 [23:18<29:46, 15.81s/it]"
     ]
    },
    {
     "name": "stdout",
     "output_type": "stream",
     "text": [
      "[ Epochs 86 | 200 ] :  train Loss: 0.1417 Acc: 0.9502 val Loss: 0.3696 Acc: 0.8896\n"
     ]
    },
    {
     "name": "stderr",
     "output_type": "stream",
     "text": [
      "Epochs:  44%|████▍     | 88/200 [23:34<29:39, 15.89s/it]"
     ]
    },
    {
     "name": "stdout",
     "output_type": "stream",
     "text": [
      "[ Epochs 87 | 200 ] :  train Loss: 0.1457 Acc: 0.9488 val Loss: 0.3839 Acc: 0.8828\n"
     ]
    },
    {
     "name": "stderr",
     "output_type": "stream",
     "text": [
      "Epochs:  44%|████▍     | 89/200 [23:50<29:30, 15.95s/it]"
     ]
    },
    {
     "name": "stdout",
     "output_type": "stream",
     "text": [
      "[ Epochs 88 | 200 ] :  train Loss: 0.1439 Acc: 0.9495 val Loss: 0.3495 Acc: 0.8948\n"
     ]
    },
    {
     "name": "stderr",
     "output_type": "stream",
     "text": [
      "Epochs:  45%|████▌     | 90/200 [24:06<29:10, 15.91s/it]"
     ]
    },
    {
     "name": "stdout",
     "output_type": "stream",
     "text": [
      "[ Epochs 89 | 200 ] :  train Loss: 0.1454 Acc: 0.9502 val Loss: 0.4154 Acc: 0.8746\n"
     ]
    },
    {
     "name": "stderr",
     "output_type": "stream",
     "text": [
      "Epochs:  46%|████▌     | 91/200 [24:21<28:45, 15.83s/it]"
     ]
    },
    {
     "name": "stdout",
     "output_type": "stream",
     "text": [
      "[ Epochs 90 | 200 ] :  train Loss: 0.1470 Acc: 0.9491 val Loss: 0.3781 Acc: 0.8847\n"
     ]
    },
    {
     "name": "stderr",
     "output_type": "stream",
     "text": [
      "Epochs:  46%|████▌     | 92/200 [24:37<28:28, 15.82s/it]"
     ]
    },
    {
     "name": "stdout",
     "output_type": "stream",
     "text": [
      "[ Epochs 91 | 200 ] :  train Loss: 0.1415 Acc: 0.9513 val Loss: 0.3693 Acc: 0.8879\n"
     ]
    },
    {
     "name": "stderr",
     "output_type": "stream",
     "text": [
      "Epochs:  46%|████▋     | 93/200 [24:53<28:07, 15.77s/it]"
     ]
    },
    {
     "name": "stdout",
     "output_type": "stream",
     "text": [
      "[ Epochs 92 | 200 ] :  train Loss: 0.1436 Acc: 0.9498 val Loss: 0.4599 Acc: 0.8649\n"
     ]
    },
    {
     "name": "stderr",
     "output_type": "stream",
     "text": [
      "Epochs:  47%|████▋     | 94/200 [25:08<27:55, 15.80s/it]"
     ]
    },
    {
     "name": "stdout",
     "output_type": "stream",
     "text": [
      "[ Epochs 93 | 200 ] :  train Loss: 0.1473 Acc: 0.9486 val Loss: 0.3652 Acc: 0.8885\n"
     ]
    },
    {
     "name": "stderr",
     "output_type": "stream",
     "text": [
      "Epochs:  48%|████▊     | 95/200 [25:24<27:40, 15.81s/it]"
     ]
    },
    {
     "name": "stdout",
     "output_type": "stream",
     "text": [
      "[ Epochs 94 | 200 ] :  train Loss: 0.1445 Acc: 0.9499 val Loss: 0.3543 Acc: 0.8925\n"
     ]
    },
    {
     "name": "stderr",
     "output_type": "stream",
     "text": [
      "Epochs:  48%|████▊     | 96/200 [25:40<27:23, 15.80s/it]"
     ]
    },
    {
     "name": "stdout",
     "output_type": "stream",
     "text": [
      "[ Epochs 95 | 200 ] :  train Loss: 0.1437 Acc: 0.9500 val Loss: 0.3528 Acc: 0.8938\n"
     ]
    },
    {
     "name": "stderr",
     "output_type": "stream",
     "text": [
      "Epochs:  48%|████▊     | 97/200 [25:56<26:55, 15.69s/it]"
     ]
    },
    {
     "name": "stdout",
     "output_type": "stream",
     "text": [
      "[ Epochs 96 | 200 ] :  train Loss: 0.1508 Acc: 0.9466 val Loss: 0.3615 Acc: 0.8875\n"
     ]
    },
    {
     "name": "stderr",
     "output_type": "stream",
     "text": [
      "Epochs:  49%|████▉     | 98/200 [26:11<26:45, 15.74s/it]"
     ]
    },
    {
     "name": "stdout",
     "output_type": "stream",
     "text": [
      "[ Epochs 97 | 200 ] :  train Loss: 0.1470 Acc: 0.9488 val Loss: 0.3756 Acc: 0.8868\n"
     ]
    },
    {
     "name": "stderr",
     "output_type": "stream",
     "text": [
      "Epochs:  50%|████▉     | 99/200 [26:27<26:28, 15.73s/it]"
     ]
    },
    {
     "name": "stdout",
     "output_type": "stream",
     "text": [
      "[ Epochs 98 | 200 ] :  train Loss: 0.1456 Acc: 0.9485 val Loss: 0.3554 Acc: 0.8912\n"
     ]
    },
    {
     "name": "stderr",
     "output_type": "stream",
     "text": [
      "Epochs:  50%|█████     | 100/200 [26:43<26:18, 15.78s/it]"
     ]
    },
    {
     "name": "stdout",
     "output_type": "stream",
     "text": [
      "[ Epochs 99 | 200 ] :  train Loss: 0.1432 Acc: 0.9502 val Loss: 0.3726 Acc: 0.8860\n",
      "LR: 0.0125,CURR_LR: 0.00625\n"
     ]
    },
    {
     "name": "stderr",
     "output_type": "stream",
     "text": [
      "Epochs:  50%|█████     | 101/200 [26:58<25:53, 15.69s/it]"
     ]
    },
    {
     "name": "stdout",
     "output_type": "stream",
     "text": [
      "Saving the current best model. Previous best loss = 0.3122162230014801 Current best loss = 0.3013083125591278\n",
      "[ Epochs 100 | 200 ] :  train Loss: 0.0962 Acc: 0.9679 val Loss: 0.3013 Acc: 0.9104\n"
     ]
    },
    {
     "name": "stderr",
     "output_type": "stream",
     "text": [
      "Epochs:  51%|█████     | 102/200 [27:14<25:41, 15.73s/it]"
     ]
    },
    {
     "name": "stdout",
     "output_type": "stream",
     "text": [
      "[ Epochs 101 | 200 ] :  train Loss: 0.0802 Acc: 0.9726 val Loss: 0.3032 Acc: 0.9100\n"
     ]
    },
    {
     "name": "stderr",
     "output_type": "stream",
     "text": [
      "Epochs:  52%|█████▏    | 103/200 [27:30<25:27, 15.74s/it]"
     ]
    },
    {
     "name": "stdout",
     "output_type": "stream",
     "text": [
      "Saving the current best model. Previous best loss = 0.3013083125591278 Current best loss = 0.30031802191734314\n",
      "[ Epochs 102 | 200 ] :  train Loss: 0.0763 Acc: 0.9744 val Loss: 0.3003 Acc: 0.9122\n"
     ]
    },
    {
     "name": "stderr",
     "output_type": "stream",
     "text": [
      "Epochs:  52%|█████▏    | 104/200 [27:46<25:27, 15.91s/it]"
     ]
    },
    {
     "name": "stdout",
     "output_type": "stream",
     "text": [
      "[ Epochs 103 | 200 ] :  train Loss: 0.0743 Acc: 0.9740 val Loss: 0.3031 Acc: 0.9119\n"
     ]
    },
    {
     "name": "stderr",
     "output_type": "stream",
     "text": [
      "Epochs:  52%|█████▎    | 105/200 [28:02<25:05, 15.85s/it]"
     ]
    },
    {
     "name": "stdout",
     "output_type": "stream",
     "text": [
      "[ Epochs 104 | 200 ] :  train Loss: 0.0693 Acc: 0.9775 val Loss: 0.3265 Acc: 0.9091\n"
     ]
    },
    {
     "name": "stderr",
     "output_type": "stream",
     "text": [
      "Epochs:  53%|█████▎    | 106/200 [28:18<24:51, 15.87s/it]"
     ]
    },
    {
     "name": "stdout",
     "output_type": "stream",
     "text": [
      "[ Epochs 105 | 200 ] :  train Loss: 0.0694 Acc: 0.9761 val Loss: 0.3152 Acc: 0.9122\n"
     ]
    },
    {
     "name": "stderr",
     "output_type": "stream",
     "text": [
      "Epochs:  54%|█████▎    | 107/200 [28:34<24:33, 15.84s/it]"
     ]
    },
    {
     "name": "stdout",
     "output_type": "stream",
     "text": [
      "[ Epochs 106 | 200 ] :  train Loss: 0.0689 Acc: 0.9765 val Loss: 0.3265 Acc: 0.9086\n"
     ]
    },
    {
     "name": "stderr",
     "output_type": "stream",
     "text": [
      "Epochs:  54%|█████▍    | 108/200 [28:50<24:29, 15.97s/it]"
     ]
    },
    {
     "name": "stdout",
     "output_type": "stream",
     "text": [
      "[ Epochs 107 | 200 ] :  train Loss: 0.0699 Acc: 0.9756 val Loss: 0.3184 Acc: 0.9103\n"
     ]
    },
    {
     "name": "stderr",
     "output_type": "stream",
     "text": [
      "Epochs:  55%|█████▍    | 109/200 [29:06<24:12, 15.97s/it]"
     ]
    },
    {
     "name": "stdout",
     "output_type": "stream",
     "text": [
      "[ Epochs 108 | 200 ] :  train Loss: 0.0720 Acc: 0.9758 val Loss: 0.3301 Acc: 0.9087\n"
     ]
    },
    {
     "name": "stderr",
     "output_type": "stream",
     "text": [
      "Epochs:  55%|█████▌    | 110/200 [29:22<23:56, 15.96s/it]"
     ]
    },
    {
     "name": "stdout",
     "output_type": "stream",
     "text": [
      "[ Epochs 109 | 200 ] :  train Loss: 0.0690 Acc: 0.9766 val Loss: 0.3204 Acc: 0.9111\n"
     ]
    },
    {
     "name": "stderr",
     "output_type": "stream",
     "text": [
      "Epochs:  56%|█████▌    | 111/200 [29:38<23:36, 15.91s/it]"
     ]
    },
    {
     "name": "stdout",
     "output_type": "stream",
     "text": [
      "[ Epochs 110 | 200 ] :  train Loss: 0.0689 Acc: 0.9768 val Loss: 0.3377 Acc: 0.9078\n"
     ]
    },
    {
     "name": "stderr",
     "output_type": "stream",
     "text": [
      "Epochs:  56%|█████▌    | 112/200 [29:54<23:17, 15.88s/it]"
     ]
    },
    {
     "name": "stdout",
     "output_type": "stream",
     "text": [
      "[ Epochs 111 | 200 ] :  train Loss: 0.0721 Acc: 0.9754 val Loss: 0.3411 Acc: 0.9048\n"
     ]
    },
    {
     "name": "stderr",
     "output_type": "stream",
     "text": [
      "Epochs:  56%|█████▋    | 113/200 [30:10<23:04, 15.92s/it]"
     ]
    },
    {
     "name": "stdout",
     "output_type": "stream",
     "text": [
      "[ Epochs 112 | 200 ] :  train Loss: 0.0694 Acc: 0.9771 val Loss: 0.3469 Acc: 0.9052\n"
     ]
    },
    {
     "name": "stderr",
     "output_type": "stream",
     "text": [
      "Epochs:  57%|█████▋    | 114/200 [30:26<22:56, 16.00s/it]"
     ]
    },
    {
     "name": "stdout",
     "output_type": "stream",
     "text": [
      "[ Epochs 113 | 200 ] :  train Loss: 0.0707 Acc: 0.9756 val Loss: 0.3346 Acc: 0.9062\n"
     ]
    },
    {
     "name": "stderr",
     "output_type": "stream",
     "text": [
      "Epochs:  57%|█████▊    | 115/200 [30:42<22:36, 15.96s/it]"
     ]
    },
    {
     "name": "stdout",
     "output_type": "stream",
     "text": [
      "[ Epochs 114 | 200 ] :  train Loss: 0.0737 Acc: 0.9753 val Loss: 0.3377 Acc: 0.9077\n"
     ]
    },
    {
     "name": "stderr",
     "output_type": "stream",
     "text": [
      "Epochs:  58%|█████▊    | 116/200 [30:57<22:10, 15.84s/it]"
     ]
    },
    {
     "name": "stdout",
     "output_type": "stream",
     "text": [
      "[ Epochs 115 | 200 ] :  train Loss: 0.0724 Acc: 0.9747 val Loss: 0.3393 Acc: 0.9051\n"
     ]
    },
    {
     "name": "stderr",
     "output_type": "stream",
     "text": [
      "Epochs:  58%|█████▊    | 117/200 [31:13<21:47, 15.75s/it]"
     ]
    },
    {
     "name": "stdout",
     "output_type": "stream",
     "text": [
      "[ Epochs 116 | 200 ] :  train Loss: 0.0755 Acc: 0.9744 val Loss: 0.3430 Acc: 0.9028\n"
     ]
    },
    {
     "name": "stderr",
     "output_type": "stream",
     "text": [
      "Epochs:  59%|█████▉    | 118/200 [31:28<21:30, 15.73s/it]"
     ]
    },
    {
     "name": "stdout",
     "output_type": "stream",
     "text": [
      "[ Epochs 117 | 200 ] :  train Loss: 0.0723 Acc: 0.9749 val Loss: 0.3663 Acc: 0.8980\n"
     ]
    },
    {
     "name": "stderr",
     "output_type": "stream",
     "text": [
      "Epochs:  60%|█████▉    | 119/200 [31:44<21:10, 15.69s/it]"
     ]
    },
    {
     "name": "stdout",
     "output_type": "stream",
     "text": [
      "[ Epochs 118 | 200 ] :  train Loss: 0.0744 Acc: 0.9748 val Loss: 0.3543 Acc: 0.9018\n"
     ]
    },
    {
     "name": "stderr",
     "output_type": "stream",
     "text": [
      "Epochs:  60%|██████    | 120/200 [31:59<20:48, 15.60s/it]"
     ]
    },
    {
     "name": "stdout",
     "output_type": "stream",
     "text": [
      "[ Epochs 119 | 200 ] :  train Loss: 0.0754 Acc: 0.9743 val Loss: 0.3546 Acc: 0.9022\n"
     ]
    },
    {
     "name": "stderr",
     "output_type": "stream",
     "text": [
      "Epochs:  60%|██████    | 121/200 [32:15<20:27, 15.53s/it]"
     ]
    },
    {
     "name": "stdout",
     "output_type": "stream",
     "text": [
      "[ Epochs 120 | 200 ] :  train Loss: 0.0728 Acc: 0.9752 val Loss: 0.3421 Acc: 0.9045\n"
     ]
    },
    {
     "name": "stderr",
     "output_type": "stream",
     "text": [
      "Epochs:  61%|██████    | 122/200 [32:30<20:06, 15.47s/it]"
     ]
    },
    {
     "name": "stdout",
     "output_type": "stream",
     "text": [
      "[ Epochs 121 | 200 ] :  train Loss: 0.0765 Acc: 0.9745 val Loss: 0.3597 Acc: 0.8994\n"
     ]
    },
    {
     "name": "stderr",
     "output_type": "stream",
     "text": [
      "Epochs:  62%|██████▏   | 123/200 [32:45<19:45, 15.40s/it]"
     ]
    },
    {
     "name": "stdout",
     "output_type": "stream",
     "text": [
      "[ Epochs 122 | 200 ] :  train Loss: 0.0724 Acc: 0.9754 val Loss: 0.3661 Acc: 0.8993\n"
     ]
    },
    {
     "name": "stderr",
     "output_type": "stream",
     "text": [
      "Epochs:  62%|██████▏   | 124/200 [33:01<19:27, 15.36s/it]"
     ]
    },
    {
     "name": "stdout",
     "output_type": "stream",
     "text": [
      "[ Epochs 123 | 200 ] :  train Loss: 0.0759 Acc: 0.9739 val Loss: 0.3607 Acc: 0.9026\n"
     ]
    },
    {
     "name": "stderr",
     "output_type": "stream",
     "text": [
      "Epochs:  62%|██████▎   | 125/200 [33:16<19:14, 15.39s/it]"
     ]
    },
    {
     "name": "stdout",
     "output_type": "stream",
     "text": [
      "[ Epochs 124 | 200 ] :  train Loss: 0.0771 Acc: 0.9732 val Loss: 0.3459 Acc: 0.9050\n",
      "LR: 0.00625,CURR_LR: 0.003125\n"
     ]
    },
    {
     "name": "stderr",
     "output_type": "stream",
     "text": [
      "Epochs:  63%|██████▎   | 126/200 [33:31<18:58, 15.39s/it]"
     ]
    },
    {
     "name": "stdout",
     "output_type": "stream",
     "text": [
      "[ Epochs 125 | 200 ] :  train Loss: 0.0487 Acc: 0.9848 val Loss: 0.3076 Acc: 0.9156\n"
     ]
    },
    {
     "name": "stderr",
     "output_type": "stream",
     "text": [
      "Epochs:  64%|██████▎   | 127/200 [33:47<18:49, 15.47s/it]"
     ]
    },
    {
     "name": "stdout",
     "output_type": "stream",
     "text": [
      "[ Epochs 126 | 200 ] :  train Loss: 0.0392 Acc: 0.9879 val Loss: 0.3078 Acc: 0.9175\n"
     ]
    },
    {
     "name": "stderr",
     "output_type": "stream",
     "text": [
      "Epochs:  64%|██████▍   | 128/200 [34:02<18:27, 15.38s/it]"
     ]
    },
    {
     "name": "stdout",
     "output_type": "stream",
     "text": [
      "[ Epochs 127 | 200 ] :  train Loss: 0.0355 Acc: 0.9890 val Loss: 0.3113 Acc: 0.9152\n"
     ]
    },
    {
     "name": "stderr",
     "output_type": "stream",
     "text": [
      "Epochs:  64%|██████▍   | 129/200 [34:17<18:00, 15.22s/it]"
     ]
    },
    {
     "name": "stdout",
     "output_type": "stream",
     "text": [
      "[ Epochs 128 | 200 ] :  train Loss: 0.0332 Acc: 0.9901 val Loss: 0.3180 Acc: 0.9150\n"
     ]
    },
    {
     "name": "stderr",
     "output_type": "stream",
     "text": [
      "Epochs:  65%|██████▌   | 130/200 [34:32<17:43, 15.19s/it]"
     ]
    },
    {
     "name": "stdout",
     "output_type": "stream",
     "text": [
      "[ Epochs 129 | 200 ] :  train Loss: 0.0303 Acc: 0.9910 val Loss: 0.3245 Acc: 0.9137\n"
     ]
    },
    {
     "name": "stderr",
     "output_type": "stream",
     "text": [
      "Epochs:  66%|██████▌   | 131/200 [34:47<17:26, 15.16s/it]"
     ]
    },
    {
     "name": "stdout",
     "output_type": "stream",
     "text": [
      "[ Epochs 130 | 200 ] :  train Loss: 0.0323 Acc: 0.9903 val Loss: 0.3206 Acc: 0.9143\n"
     ]
    },
    {
     "name": "stderr",
     "output_type": "stream",
     "text": [
      "Epochs:  66%|██████▌   | 132/200 [35:02<17:03, 15.05s/it]"
     ]
    },
    {
     "name": "stdout",
     "output_type": "stream",
     "text": [
      "[ Epochs 131 | 200 ] :  train Loss: 0.0304 Acc: 0.9911 val Loss: 0.3185 Acc: 0.9170\n"
     ]
    },
    {
     "name": "stderr",
     "output_type": "stream",
     "text": [
      "Epochs:  66%|██████▋   | 133/200 [35:17<16:46, 15.02s/it]"
     ]
    },
    {
     "name": "stdout",
     "output_type": "stream",
     "text": [
      "[ Epochs 132 | 200 ] :  train Loss: 0.0298 Acc: 0.9909 val Loss: 0.3186 Acc: 0.9166\n"
     ]
    },
    {
     "name": "stderr",
     "output_type": "stream",
     "text": [
      "Epochs:  67%|██████▋   | 134/200 [35:32<16:32, 15.04s/it]"
     ]
    },
    {
     "name": "stdout",
     "output_type": "stream",
     "text": [
      "[ Epochs 133 | 200 ] :  train Loss: 0.0286 Acc: 0.9913 val Loss: 0.3254 Acc: 0.9164\n"
     ]
    },
    {
     "name": "stderr",
     "output_type": "stream",
     "text": [
      "Epochs:  68%|██████▊   | 135/200 [35:47<16:17, 15.05s/it]"
     ]
    },
    {
     "name": "stdout",
     "output_type": "stream",
     "text": [
      "[ Epochs 134 | 200 ] :  train Loss: 0.0296 Acc: 0.9909 val Loss: 0.3281 Acc: 0.9143\n"
     ]
    },
    {
     "name": "stderr",
     "output_type": "stream",
     "text": [
      "Epochs:  68%|██████▊   | 136/200 [36:02<16:00, 15.00s/it]"
     ]
    },
    {
     "name": "stdout",
     "output_type": "stream",
     "text": [
      "[ Epochs 135 | 200 ] :  train Loss: 0.0295 Acc: 0.9909 val Loss: 0.3426 Acc: 0.9120\n"
     ]
    },
    {
     "name": "stderr",
     "output_type": "stream",
     "text": [
      "Epochs:  68%|██████▊   | 137/200 [36:17<15:46, 15.02s/it]"
     ]
    },
    {
     "name": "stdout",
     "output_type": "stream",
     "text": [
      "[ Epochs 136 | 200 ] :  train Loss: 0.0279 Acc: 0.9918 val Loss: 0.3221 Acc: 0.9146\n"
     ]
    },
    {
     "name": "stderr",
     "output_type": "stream",
     "text": [
      "Epochs:  69%|██████▉   | 138/200 [36:32<15:30, 15.01s/it]"
     ]
    },
    {
     "name": "stdout",
     "output_type": "stream",
     "text": [
      "[ Epochs 137 | 200 ] :  train Loss: 0.0289 Acc: 0.9911 val Loss: 0.3161 Acc: 0.9181\n"
     ]
    },
    {
     "name": "stderr",
     "output_type": "stream",
     "text": [
      "Epochs:  70%|██████▉   | 139/200 [36:47<15:17, 15.04s/it]"
     ]
    },
    {
     "name": "stdout",
     "output_type": "stream",
     "text": [
      "[ Epochs 138 | 200 ] :  train Loss: 0.0293 Acc: 0.9912 val Loss: 0.3207 Acc: 0.9163\n"
     ]
    },
    {
     "name": "stderr",
     "output_type": "stream",
     "text": [
      "Epochs:  70%|███████   | 140/200 [37:02<15:02, 15.04s/it]"
     ]
    },
    {
     "name": "stdout",
     "output_type": "stream",
     "text": [
      "[ Epochs 139 | 200 ] :  train Loss: 0.0270 Acc: 0.9920 val Loss: 0.3212 Acc: 0.9176\n"
     ]
    },
    {
     "name": "stderr",
     "output_type": "stream",
     "text": [
      "Epochs:  70%|███████   | 141/200 [37:18<14:50, 15.09s/it]"
     ]
    },
    {
     "name": "stdout",
     "output_type": "stream",
     "text": [
      "[ Epochs 140 | 200 ] :  train Loss: 0.0276 Acc: 0.9917 val Loss: 0.3252 Acc: 0.9165\n"
     ]
    },
    {
     "name": "stderr",
     "output_type": "stream",
     "text": [
      "Epochs:  71%|███████   | 142/200 [37:32<14:31, 15.03s/it]"
     ]
    },
    {
     "name": "stdout",
     "output_type": "stream",
     "text": [
      "[ Epochs 141 | 200 ] :  train Loss: 0.0271 Acc: 0.9917 val Loss: 0.3289 Acc: 0.9165\n"
     ]
    },
    {
     "name": "stderr",
     "output_type": "stream",
     "text": [
      "Epochs:  72%|███████▏  | 143/200 [37:47<14:13, 14.98s/it]"
     ]
    },
    {
     "name": "stdout",
     "output_type": "stream",
     "text": [
      "[ Epochs 142 | 200 ] :  train Loss: 0.0284 Acc: 0.9910 val Loss: 0.3453 Acc: 0.9124\n"
     ]
    },
    {
     "name": "stderr",
     "output_type": "stream",
     "text": [
      "Epochs:  72%|███████▏  | 144/200 [38:02<13:55, 14.91s/it]"
     ]
    },
    {
     "name": "stdout",
     "output_type": "stream",
     "text": [
      "[ Epochs 143 | 200 ] :  train Loss: 0.0279 Acc: 0.9915 val Loss: 0.3390 Acc: 0.9123\n"
     ]
    },
    {
     "name": "stderr",
     "output_type": "stream",
     "text": [
      "Epochs:  72%|███████▎  | 145/200 [38:17<13:41, 14.94s/it]"
     ]
    },
    {
     "name": "stdout",
     "output_type": "stream",
     "text": [
      "[ Epochs 144 | 200 ] :  train Loss: 0.0283 Acc: 0.9914 val Loss: 0.3420 Acc: 0.9132\n"
     ]
    },
    {
     "name": "stderr",
     "output_type": "stream",
     "text": [
      "Epochs:  73%|███████▎  | 146/200 [38:32<13:29, 14.99s/it]"
     ]
    },
    {
     "name": "stdout",
     "output_type": "stream",
     "text": [
      "[ Epochs 145 | 200 ] :  train Loss: 0.0272 Acc: 0.9914 val Loss: 0.3226 Acc: 0.9162\n"
     ]
    },
    {
     "name": "stderr",
     "output_type": "stream",
     "text": [
      "Epochs:  74%|███████▎  | 147/200 [38:47<13:18, 15.07s/it]"
     ]
    },
    {
     "name": "stdout",
     "output_type": "stream",
     "text": [
      "[ Epochs 146 | 200 ] :  train Loss: 0.0274 Acc: 0.9915 val Loss: 0.3324 Acc: 0.9160\n"
     ]
    },
    {
     "name": "stderr",
     "output_type": "stream",
     "text": [
      "Epochs:  74%|███████▍  | 148/200 [39:03<13:08, 15.17s/it]"
     ]
    },
    {
     "name": "stdout",
     "output_type": "stream",
     "text": [
      "[ Epochs 147 | 200 ] :  train Loss: 0.0276 Acc: 0.9917 val Loss: 0.3520 Acc: 0.9101\n"
     ]
    },
    {
     "name": "stderr",
     "output_type": "stream",
     "text": [
      "Epochs:  74%|███████▍  | 149/200 [39:18<12:56, 15.23s/it]"
     ]
    },
    {
     "name": "stdout",
     "output_type": "stream",
     "text": [
      "[ Epochs 148 | 200 ] :  train Loss: 0.0298 Acc: 0.9911 val Loss: 0.3340 Acc: 0.9136\n"
     ]
    },
    {
     "name": "stderr",
     "output_type": "stream",
     "text": [
      "Epochs:  75%|███████▌  | 150/200 [39:33<12:38, 15.16s/it]"
     ]
    },
    {
     "name": "stdout",
     "output_type": "stream",
     "text": [
      "[ Epochs 149 | 200 ] :  train Loss: 0.0296 Acc: 0.9907 val Loss: 0.3512 Acc: 0.9117\n",
      "LR: 0.003125,CURR_LR: 0.0015625\n"
     ]
    },
    {
     "name": "stderr",
     "output_type": "stream",
     "text": [
      "Epochs:  76%|███████▌  | 151/200 [39:49<12:25, 15.22s/it]"
     ]
    },
    {
     "name": "stdout",
     "output_type": "stream",
     "text": [
      "[ Epochs 150 | 200 ] :  train Loss: 0.0202 Acc: 0.9947 val Loss: 0.3271 Acc: 0.9192\n"
     ]
    },
    {
     "name": "stderr",
     "output_type": "stream",
     "text": [
      "Epochs:  76%|███████▌  | 152/200 [40:03<12:06, 15.13s/it]"
     ]
    },
    {
     "name": "stdout",
     "output_type": "stream",
     "text": [
      "[ Epochs 151 | 200 ] :  train Loss: 0.0164 Acc: 0.9960 val Loss: 0.3258 Acc: 0.9191\n"
     ]
    },
    {
     "name": "stderr",
     "output_type": "stream",
     "text": [
      "Epochs:  76%|███████▋  | 153/200 [40:19<11:51, 15.13s/it]"
     ]
    },
    {
     "name": "stdout",
     "output_type": "stream",
     "text": [
      "[ Epochs 152 | 200 ] :  train Loss: 0.0161 Acc: 0.9958 val Loss: 0.3171 Acc: 0.9196\n"
     ]
    },
    {
     "name": "stderr",
     "output_type": "stream",
     "text": [
      "Epochs:  77%|███████▋  | 154/200 [40:34<11:34, 15.11s/it]"
     ]
    },
    {
     "name": "stdout",
     "output_type": "stream",
     "text": [
      "[ Epochs 153 | 200 ] :  train Loss: 0.0147 Acc: 0.9965 val Loss: 0.3206 Acc: 0.9199\n"
     ]
    },
    {
     "name": "stderr",
     "output_type": "stream",
     "text": [
      "Epochs:  78%|███████▊  | 155/200 [40:49<11:17, 15.05s/it]"
     ]
    },
    {
     "name": "stdout",
     "output_type": "stream",
     "text": [
      "[ Epochs 154 | 200 ] :  train Loss: 0.0140 Acc: 0.9966 val Loss: 0.3208 Acc: 0.9218\n"
     ]
    },
    {
     "name": "stderr",
     "output_type": "stream",
     "text": [
      "Epochs:  78%|███████▊  | 156/200 [41:04<11:01, 15.04s/it]"
     ]
    },
    {
     "name": "stdout",
     "output_type": "stream",
     "text": [
      "[ Epochs 155 | 200 ] :  train Loss: 0.0129 Acc: 0.9970 val Loss: 0.3178 Acc: 0.9211\n"
     ]
    },
    {
     "name": "stderr",
     "output_type": "stream",
     "text": [
      "Epochs:  78%|███████▊  | 157/200 [41:19<10:48, 15.07s/it]"
     ]
    },
    {
     "name": "stdout",
     "output_type": "stream",
     "text": [
      "[ Epochs 156 | 200 ] :  train Loss: 0.0137 Acc: 0.9970 val Loss: 0.3199 Acc: 0.9205\n"
     ]
    },
    {
     "name": "stderr",
     "output_type": "stream",
     "text": [
      "Epochs:  79%|███████▉  | 158/200 [41:34<10:31, 15.03s/it]"
     ]
    },
    {
     "name": "stdout",
     "output_type": "stream",
     "text": [
      "[ Epochs 157 | 200 ] :  train Loss: 0.0129 Acc: 0.9973 val Loss: 0.3196 Acc: 0.9179\n"
     ]
    },
    {
     "name": "stderr",
     "output_type": "stream",
     "text": [
      "Epochs:  80%|███████▉  | 159/200 [41:48<10:12, 14.94s/it]"
     ]
    },
    {
     "name": "stdout",
     "output_type": "stream",
     "text": [
      "[ Epochs 158 | 200 ] :  train Loss: 0.0125 Acc: 0.9970 val Loss: 0.3251 Acc: 0.9192\n"
     ]
    },
    {
     "name": "stderr",
     "output_type": "stream",
     "text": [
      "Epochs:  80%|████████  | 160/200 [42:03<09:53, 14.85s/it]"
     ]
    },
    {
     "name": "stdout",
     "output_type": "stream",
     "text": [
      "[ Epochs 159 | 200 ] :  train Loss: 0.0115 Acc: 0.9976 val Loss: 0.3224 Acc: 0.9206\n"
     ]
    },
    {
     "name": "stderr",
     "output_type": "stream",
     "text": [
      "Epochs:  80%|████████  | 161/200 [42:18<09:37, 14.82s/it]"
     ]
    },
    {
     "name": "stdout",
     "output_type": "stream",
     "text": [
      "[ Epochs 160 | 200 ] :  train Loss: 0.0124 Acc: 0.9971 val Loss: 0.3230 Acc: 0.9190\n"
     ]
    },
    {
     "name": "stderr",
     "output_type": "stream",
     "text": [
      "Epochs:  81%|████████  | 162/200 [42:33<09:25, 14.88s/it]"
     ]
    },
    {
     "name": "stdout",
     "output_type": "stream",
     "text": [
      "[ Epochs 161 | 200 ] :  train Loss: 0.0118 Acc: 0.9974 val Loss: 0.3237 Acc: 0.9208\n"
     ]
    },
    {
     "name": "stderr",
     "output_type": "stream",
     "text": [
      "Epochs:  82%|████████▏ | 163/200 [42:47<09:08, 14.83s/it]"
     ]
    },
    {
     "name": "stdout",
     "output_type": "stream",
     "text": [
      "[ Epochs 162 | 200 ] :  train Loss: 0.0116 Acc: 0.9975 val Loss: 0.3248 Acc: 0.9195\n"
     ]
    },
    {
     "name": "stderr",
     "output_type": "stream",
     "text": [
      "Epochs:  82%|████████▏ | 164/200 [43:02<08:53, 14.82s/it]"
     ]
    },
    {
     "name": "stdout",
     "output_type": "stream",
     "text": [
      "[ Epochs 163 | 200 ] :  train Loss: 0.0117 Acc: 0.9975 val Loss: 0.3205 Acc: 0.9203\n"
     ]
    },
    {
     "name": "stderr",
     "output_type": "stream",
     "text": [
      "Epochs:  82%|████████▎ | 165/200 [43:17<08:37, 14.80s/it]"
     ]
    },
    {
     "name": "stdout",
     "output_type": "stream",
     "text": [
      "[ Epochs 164 | 200 ] :  train Loss: 0.0116 Acc: 0.9972 val Loss: 0.3260 Acc: 0.9191\n"
     ]
    },
    {
     "name": "stderr",
     "output_type": "stream",
     "text": [
      "Epochs:  83%|████████▎ | 166/200 [43:32<08:21, 14.75s/it]"
     ]
    },
    {
     "name": "stdout",
     "output_type": "stream",
     "text": [
      "[ Epochs 165 | 200 ] :  train Loss: 0.0122 Acc: 0.9971 val Loss: 0.3242 Acc: 0.9215\n"
     ]
    },
    {
     "name": "stderr",
     "output_type": "stream",
     "text": [
      "Epochs:  84%|████████▎ | 167/200 [43:47<08:10, 14.86s/it]"
     ]
    },
    {
     "name": "stdout",
     "output_type": "stream",
     "text": [
      "[ Epochs 166 | 200 ] :  train Loss: 0.0114 Acc: 0.9977 val Loss: 0.3228 Acc: 0.9198\n"
     ]
    },
    {
     "name": "stderr",
     "output_type": "stream",
     "text": [
      "Epochs:  84%|████████▍ | 168/200 [44:02<07:55, 14.87s/it]"
     ]
    },
    {
     "name": "stdout",
     "output_type": "stream",
     "text": [
      "[ Epochs 167 | 200 ] :  train Loss: 0.0106 Acc: 0.9977 val Loss: 0.3250 Acc: 0.9209\n"
     ]
    },
    {
     "name": "stderr",
     "output_type": "stream",
     "text": [
      "Epochs:  84%|████████▍ | 169/200 [44:17<07:42, 14.91s/it]"
     ]
    },
    {
     "name": "stdout",
     "output_type": "stream",
     "text": [
      "[ Epochs 168 | 200 ] :  train Loss: 0.0101 Acc: 0.9980 val Loss: 0.3217 Acc: 0.9186\n"
     ]
    },
    {
     "name": "stderr",
     "output_type": "stream",
     "text": [
      "Epochs:  85%|████████▌ | 170/200 [44:31<07:25, 14.84s/it]"
     ]
    },
    {
     "name": "stdout",
     "output_type": "stream",
     "text": [
      "[ Epochs 169 | 200 ] :  train Loss: 0.0109 Acc: 0.9975 val Loss: 0.3244 Acc: 0.9201\n"
     ]
    },
    {
     "name": "stderr",
     "output_type": "stream",
     "text": [
      "Epochs:  86%|████████▌ | 171/200 [44:46<07:11, 14.86s/it]"
     ]
    },
    {
     "name": "stdout",
     "output_type": "stream",
     "text": [
      "[ Epochs 170 | 200 ] :  train Loss: 0.0105 Acc: 0.9978 val Loss: 0.3247 Acc: 0.9196\n"
     ]
    },
    {
     "name": "stderr",
     "output_type": "stream",
     "text": [
      "Epochs:  86%|████████▌ | 172/200 [45:01<06:55, 14.82s/it]"
     ]
    },
    {
     "name": "stdout",
     "output_type": "stream",
     "text": [
      "[ Epochs 171 | 200 ] :  train Loss: 0.0103 Acc: 0.9977 val Loss: 0.3220 Acc: 0.9194\n"
     ]
    },
    {
     "name": "stderr",
     "output_type": "stream",
     "text": [
      "Epochs:  86%|████████▋ | 173/200 [45:16<06:43, 14.94s/it]"
     ]
    },
    {
     "name": "stdout",
     "output_type": "stream",
     "text": [
      "[ Epochs 172 | 200 ] :  train Loss: 0.0107 Acc: 0.9978 val Loss: 0.3252 Acc: 0.9195\n"
     ]
    },
    {
     "name": "stderr",
     "output_type": "stream",
     "text": [
      "Epochs:  87%|████████▋ | 174/200 [45:31<06:29, 14.98s/it]"
     ]
    },
    {
     "name": "stdout",
     "output_type": "stream",
     "text": [
      "[ Epochs 173 | 200 ] :  train Loss: 0.0113 Acc: 0.9975 val Loss: 0.3336 Acc: 0.9210\n"
     ]
    },
    {
     "name": "stderr",
     "output_type": "stream",
     "text": [
      "Epochs:  88%|████████▊ | 175/200 [45:46<06:15, 15.03s/it]"
     ]
    },
    {
     "name": "stdout",
     "output_type": "stream",
     "text": [
      "[ Epochs 174 | 200 ] :  train Loss: 0.0099 Acc: 0.9984 val Loss: 0.3243 Acc: 0.9212\n",
      "LR: 0.0015625,CURR_LR: 0.00078125\n"
     ]
    },
    {
     "name": "stderr",
     "output_type": "stream",
     "text": [
      "Epochs:  88%|████████▊ | 176/200 [46:01<05:58, 14.96s/it]"
     ]
    },
    {
     "name": "stdout",
     "output_type": "stream",
     "text": [
      "[ Epochs 175 | 200 ] :  train Loss: 0.0089 Acc: 0.9983 val Loss: 0.3161 Acc: 0.9220\n"
     ]
    },
    {
     "name": "stderr",
     "output_type": "stream",
     "text": [
      "Epochs:  88%|████████▊ | 177/200 [46:16<05:45, 15.01s/it]"
     ]
    },
    {
     "name": "stdout",
     "output_type": "stream",
     "text": [
      "[ Epochs 176 | 200 ] :  train Loss: 0.0086 Acc: 0.9986 val Loss: 0.3153 Acc: 0.9225\n"
     ]
    },
    {
     "name": "stderr",
     "output_type": "stream",
     "text": [
      "Epochs:  89%|████████▉ | 178/200 [46:31<05:30, 15.03s/it]"
     ]
    },
    {
     "name": "stdout",
     "output_type": "stream",
     "text": [
      "[ Epochs 177 | 200 ] :  train Loss: 0.0081 Acc: 0.9985 val Loss: 0.3154 Acc: 0.9216\n"
     ]
    },
    {
     "name": "stderr",
     "output_type": "stream",
     "text": [
      "Epochs:  90%|████████▉ | 179/200 [46:47<05:16, 15.05s/it]"
     ]
    },
    {
     "name": "stdout",
     "output_type": "stream",
     "text": [
      "[ Epochs 178 | 200 ] :  train Loss: 0.0074 Acc: 0.9988 val Loss: 0.3110 Acc: 0.9213\n"
     ]
    },
    {
     "name": "stderr",
     "output_type": "stream",
     "text": [
      "Epochs:  90%|█████████ | 180/200 [47:01<04:59, 14.98s/it]"
     ]
    },
    {
     "name": "stdout",
     "output_type": "stream",
     "text": [
      "[ Epochs 179 | 200 ] :  train Loss: 0.0074 Acc: 0.9987 val Loss: 0.3147 Acc: 0.9206\n"
     ]
    },
    {
     "name": "stderr",
     "output_type": "stream",
     "text": [
      "Epochs:  90%|█████████ | 181/200 [47:16<04:43, 14.93s/it]"
     ]
    },
    {
     "name": "stdout",
     "output_type": "stream",
     "text": [
      "[ Epochs 180 | 200 ] :  train Loss: 0.0074 Acc: 0.9990 val Loss: 0.3174 Acc: 0.9232\n"
     ]
    },
    {
     "name": "stderr",
     "output_type": "stream",
     "text": [
      "Epochs:  91%|█████████ | 182/200 [47:31<04:28, 14.89s/it]"
     ]
    },
    {
     "name": "stdout",
     "output_type": "stream",
     "text": [
      "[ Epochs 181 | 200 ] :  train Loss: 0.0078 Acc: 0.9987 val Loss: 0.3140 Acc: 0.9231\n"
     ]
    },
    {
     "name": "stderr",
     "output_type": "stream",
     "text": [
      "Epochs:  92%|█████████▏| 183/200 [47:46<04:13, 14.91s/it]"
     ]
    },
    {
     "name": "stdout",
     "output_type": "stream",
     "text": [
      "[ Epochs 182 | 200 ] :  train Loss: 0.0069 Acc: 0.9991 val Loss: 0.3115 Acc: 0.9224\n"
     ]
    },
    {
     "name": "stderr",
     "output_type": "stream",
     "text": [
      "Epochs:  92%|█████████▏| 184/200 [48:01<03:58, 14.88s/it]"
     ]
    },
    {
     "name": "stdout",
     "output_type": "stream",
     "text": [
      "[ Epochs 183 | 200 ] :  train Loss: 0.0072 Acc: 0.9989 val Loss: 0.3143 Acc: 0.9226\n"
     ]
    },
    {
     "name": "stderr",
     "output_type": "stream",
     "text": [
      "Epochs:  92%|█████████▎| 185/200 [48:16<03:42, 14.85s/it]"
     ]
    },
    {
     "name": "stdout",
     "output_type": "stream",
     "text": [
      "[ Epochs 184 | 200 ] :  train Loss: 0.0066 Acc: 0.9989 val Loss: 0.3135 Acc: 0.9246\n"
     ]
    },
    {
     "name": "stderr",
     "output_type": "stream",
     "text": [
      "Epochs:  93%|█████████▎| 186/200 [48:30<03:27, 14.79s/it]"
     ]
    },
    {
     "name": "stdout",
     "output_type": "stream",
     "text": [
      "[ Epochs 185 | 200 ] :  train Loss: 0.0079 Acc: 0.9986 val Loss: 0.3148 Acc: 0.9237\n"
     ]
    },
    {
     "name": "stderr",
     "output_type": "stream",
     "text": [
      "Epochs:  94%|█████████▎| 187/200 [48:45<03:12, 14.83s/it]"
     ]
    },
    {
     "name": "stdout",
     "output_type": "stream",
     "text": [
      "[ Epochs 186 | 200 ] :  train Loss: 0.0070 Acc: 0.9989 val Loss: 0.3166 Acc: 0.9229\n"
     ]
    },
    {
     "name": "stderr",
     "output_type": "stream",
     "text": [
      "Epochs:  94%|█████████▍| 188/200 [49:00<02:57, 14.78s/it]"
     ]
    },
    {
     "name": "stdout",
     "output_type": "stream",
     "text": [
      "[ Epochs 187 | 200 ] :  train Loss: 0.0075 Acc: 0.9987 val Loss: 0.3152 Acc: 0.9237\n"
     ]
    },
    {
     "name": "stderr",
     "output_type": "stream",
     "text": [
      "Epochs:  94%|█████████▍| 189/200 [49:15<02:42, 14.81s/it]"
     ]
    },
    {
     "name": "stdout",
     "output_type": "stream",
     "text": [
      "[ Epochs 188 | 200 ] :  train Loss: 0.0070 Acc: 0.9988 val Loss: 0.3149 Acc: 0.9241\n"
     ]
    },
    {
     "name": "stderr",
     "output_type": "stream",
     "text": [
      "Epochs:  95%|█████████▌| 190/200 [49:29<02:27, 14.79s/it]"
     ]
    },
    {
     "name": "stdout",
     "output_type": "stream",
     "text": [
      "[ Epochs 189 | 200 ] :  train Loss: 0.0068 Acc: 0.9987 val Loss: 0.3180 Acc: 0.9237\n"
     ]
    },
    {
     "name": "stderr",
     "output_type": "stream",
     "text": [
      "Epochs:  96%|█████████▌| 191/200 [49:44<02:12, 14.72s/it]"
     ]
    },
    {
     "name": "stdout",
     "output_type": "stream",
     "text": [
      "[ Epochs 190 | 200 ] :  train Loss: 0.0068 Acc: 0.9989 val Loss: 0.3159 Acc: 0.9229\n"
     ]
    },
    {
     "name": "stderr",
     "output_type": "stream",
     "text": [
      "Epochs:  96%|█████████▌| 192/200 [49:59<01:57, 14.69s/it]"
     ]
    },
    {
     "name": "stdout",
     "output_type": "stream",
     "text": [
      "[ Epochs 191 | 200 ] :  train Loss: 0.0066 Acc: 0.9989 val Loss: 0.3115 Acc: 0.9244\n"
     ]
    },
    {
     "name": "stderr",
     "output_type": "stream",
     "text": [
      "Epochs:  96%|█████████▋| 193/200 [50:13<01:42, 14.63s/it]"
     ]
    },
    {
     "name": "stdout",
     "output_type": "stream",
     "text": [
      "[ Epochs 192 | 200 ] :  train Loss: 0.0069 Acc: 0.9990 val Loss: 0.3130 Acc: 0.9235\n"
     ]
    },
    {
     "name": "stderr",
     "output_type": "stream",
     "text": [
      "Epochs:  97%|█████████▋| 194/200 [50:28<01:27, 14.66s/it]"
     ]
    },
    {
     "name": "stdout",
     "output_type": "stream",
     "text": [
      "[ Epochs 193 | 200 ] :  train Loss: 0.0064 Acc: 0.9991 val Loss: 0.3151 Acc: 0.9230\n"
     ]
    },
    {
     "name": "stderr",
     "output_type": "stream",
     "text": [
      "Epochs:  98%|█████████▊| 195/200 [50:43<01:13, 14.72s/it]"
     ]
    },
    {
     "name": "stdout",
     "output_type": "stream",
     "text": [
      "[ Epochs 194 | 200 ] :  train Loss: 0.0067 Acc: 0.9990 val Loss: 0.3163 Acc: 0.9227\n"
     ]
    },
    {
     "name": "stderr",
     "output_type": "stream",
     "text": [
      "Epochs:  98%|█████████▊| 196/200 [50:57<00:58, 14.69s/it]"
     ]
    },
    {
     "name": "stdout",
     "output_type": "stream",
     "text": [
      "[ Epochs 195 | 200 ] :  train Loss: 0.0070 Acc: 0.9988 val Loss: 0.3195 Acc: 0.9230\n"
     ]
    },
    {
     "name": "stderr",
     "output_type": "stream",
     "text": [
      "Epochs:  98%|█████████▊| 197/200 [51:12<00:43, 14.64s/it]"
     ]
    },
    {
     "name": "stdout",
     "output_type": "stream",
     "text": [
      "[ Epochs 196 | 200 ] :  train Loss: 0.0069 Acc: 0.9989 val Loss: 0.3169 Acc: 0.9227\n"
     ]
    },
    {
     "name": "stderr",
     "output_type": "stream",
     "text": [
      "Epochs:  99%|█████████▉| 198/200 [51:26<00:29, 14.65s/it]"
     ]
    },
    {
     "name": "stdout",
     "output_type": "stream",
     "text": [
      "[ Epochs 197 | 200 ] :  train Loss: 0.0066 Acc: 0.9990 val Loss: 0.3170 Acc: 0.9232\n"
     ]
    },
    {
     "name": "stderr",
     "output_type": "stream",
     "text": [
      "Epochs: 100%|█████████▉| 199/200 [51:41<00:14, 14.67s/it]"
     ]
    },
    {
     "name": "stdout",
     "output_type": "stream",
     "text": [
      "[ Epochs 198 | 200 ] :  train Loss: 0.0070 Acc: 0.9990 val Loss: 0.3148 Acc: 0.9252\n"
     ]
    },
    {
     "name": "stderr",
     "output_type": "stream",
     "text": [
      "Epochs: 100%|██████████| 200/200 [51:56<00:00, 15.58s/it]"
     ]
    },
    {
     "name": "stdout",
     "output_type": "stream",
     "text": [
      "[ Epochs 199 | 200 ] :  train Loss: 0.0064 Acc: 0.9990 val Loss: 0.3152 Acc: 0.9222\n",
      "LR: 0.00078125,CURR_LR: 0.000390625\n"
     ]
    },
    {
     "name": "stderr",
     "output_type": "stream",
     "text": [
      "\n"
     ]
    }
   ],
   "source": [
    "train_model(model,data.dataloader(),num_epochs=200)"
   ]
  },
  {
   "cell_type": "code",
   "execution_count": null,
   "metadata": {
    "colab": {},
    "colab_type": "code",
    "id": "t8hOwBkxPZwX"
   },
   "outputs": [],
   "source": [
    "######################quick notes on this########################################\n",
    "\n",
    "###########################################################"
   ]
  }
 ],
 "metadata": {
  "accelerator": "GPU",
  "colab": {
   "collapsed_sections": [],
   "name": "TrainingNotebook.ipynb",
   "provenance": []
  },
  "hide_input": false,
  "kernelspec": {
   "display_name": "Python 3",
   "language": "python",
   "name": "python3"
  },
  "language_info": {
   "codemirror_mode": {
    "name": "ipython",
    "version": 3
   },
   "file_extension": ".py",
   "mimetype": "text/x-python",
   "name": "python",
   "nbconvert_exporter": "python",
   "pygments_lexer": "ipython3",
   "version": "3.7.6"
  },
  "toc": {
   "base_numbering": 1,
   "nav_menu": {},
   "number_sections": false,
   "sideBar": true,
   "skip_h1_title": false,
   "title_cell": "Table of Contents",
   "title_sidebar": "Contents",
   "toc_cell": false,
   "toc_position": {},
   "toc_section_display": true,
   "toc_window_display": false
  },
  "varInspector": {
   "cols": {
    "lenName": 16,
    "lenType": 16,
    "lenVar": 40
   },
   "kernels_config": {
    "python": {
     "delete_cmd_postfix": "",
     "delete_cmd_prefix": "del ",
     "library": "var_list.py",
     "varRefreshCmd": "print(var_dic_list())"
    },
    "r": {
     "delete_cmd_postfix": ") ",
     "delete_cmd_prefix": "rm(",
     "library": "var_list.r",
     "varRefreshCmd": "cat(var_dic_list()) "
    }
   },
   "types_to_exclude": [
    "module",
    "function",
    "builtin_function_or_method",
    "instance",
    "_Feature"
   ],
   "window_display": false
  }
 },
 "nbformat": 4,
 "nbformat_minor": 4
}
